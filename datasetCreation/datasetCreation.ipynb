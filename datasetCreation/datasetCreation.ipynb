{
 "cells": [
  {
   "cell_type": "code",
   "execution_count": null,
   "metadata": {
    "id": "XAdyMEcrQhzD"
   },
   "outputs": [],
   "source": [
    "!pip install datasets"
   ]
  },
  {
   "cell_type": "code",
   "execution_count": 17,
   "metadata": {
    "id": "6L9PBFiUUqLH"
   },
   "outputs": [],
   "source": [
    "def medicalConversationData():\n",
    "    # Import necessary libraries\n",
    "    from datasets import load_dataset\n",
    "    import pandas as pd\n",
    "\n",
    "    # Load the dataset\n",
    "    dataset = load_dataset(\"akemiH/NoteChat\")\n",
    "\n",
    "    # Select the first 10k rows\n",
    "    subset = dataset['train'].select(range(10000))\n",
    "\n",
    "    # Convert the subset into a DataFrame\n",
    "    df = pd.DataFrame(subset)\n",
    "\n",
    "    # Convert the DataFrame to Feather format for future use\n",
    "    df.to_feather('subset.feather')\n",
    "\n",
    "    # Extract conversation column\n",
    "    df['conversation'] = df['conversation'].str.replace('\\n', '')\n",
    "\n",
    "    # Split the conversation by 'Doctor:' and 'Patient:'\n",
    "    parts = df['conversation'].str.split(': ')\n",
    "\n",
    "    # Separate doctor and patient conversations\n",
    "    df['doctor'] = [' '.join(parts[i][1::2]) for i in range(len(parts))]\n",
    "    df['patient'] = [' '.join(parts[i][::2]) for i in range(len(parts))]\n",
    "\n",
    "    # Rename columns for clarity\n",
    "    df.rename(columns={'doctor': 'patient', 'patient': 'doctor'}, inplace=True)\n",
    "\n",
    "    # Convert the updated df into a csv file\n",
    "    df.to_csv('medical_conversations.csv', index=False)\n",
    "\n",
    "    # Load DataFrame from CSV file\n",
    "    df = pd.read_csv(\"medical_conversations.csv\")\n",
    "\n",
    "    # Create an empty list to store the combined conversations and labels\n",
    "    combined_data = []\n",
    "    \n",
    "    # Iterate through each row in the DataFrame\n",
    "    for index, row in df.iterrows():\n",
    "        # Extract patient and doctor conversations from the row\n",
    "        patient_convo = row['patient']\n",
    "        doctor_convo = row['doctor']\n",
    "        \n",
    "        # Append patient conversation with label 'patient' to the combined data list\n",
    "        combined_data.append({'convo': patient_convo, 'label': 'patient'})\n",
    "        \n",
    "        # Append doctor conversation with label 'doctor' to the combined data list\n",
    "        combined_data.append({'convo': doctor_convo, 'label': 'doctor'})\n",
    "    \n",
    "    # Convert the combined data list into a DataFrame\n",
    "    combined_df = pd.DataFrame(combined_data)\n",
    "\n",
    "    # Replace '\\n' characters with empty strings in the 'convo' column\n",
    "    combined_df['convo'] = combined_df['convo'].str.replace('\\n', '')\n",
    "    \n",
    "    # Display the first few rows of the DataFrame to verify the changes\n",
    "    print(combined_df.head())\n",
    "\n",
    "# # Call the function to preprocess the data\n",
    "# medicalConversationData()"
   ]
  },
  {
   "cell_type": "code",
   "execution_count": null,
   "metadata": {
    "id": "ce9s05frQihd"
   },
   "outputs": [],
   "source": [
    "from datasets import load_dataset\n",
    "\n",
    "# Load the dataset\n",
    "dataset = load_dataset(\"akemiH/NoteChat\")\n",
    "\n",
    "# Select the first 10k rows\n",
    "subset = dataset['train'].select(range(10000))\n"
   ]
  },
  {
   "cell_type": "code",
   "execution_count": null,
   "metadata": {
    "id": "J8NYffUtQrnK"
   },
   "outputs": [],
   "source": [
    "!pip install pandas pyarrow\n",
    "!pip install pandas"
   ]
  },
  {
   "cell_type": "code",
   "execution_count": 5,
   "metadata": {
    "id": "fl9fbWy_RQr6"
   },
   "outputs": [],
   "source": [
    "import pandas as pd\n",
    "\n",
    "# Assuming that 'subset' is your dataset\n",
    "df = pd.DataFrame(subset)\n",
    "\n",
    "# Convert the DataFrame to Feather format\n",
    "df.to_feather('subset.feather')"
   ]
  },
  {
   "cell_type": "code",
   "execution_count": null,
   "metadata": {
    "id": "D_q0V2ZgRkPJ"
   },
   "outputs": [],
   "source": [
    "df.head()"
   ]
  },
  {
   "cell_type": "code",
   "execution_count": 7,
   "metadata": {
    "colab": {
     "base_uri": "https://localhost:8080/",
     "height": 127
    },
    "id": "I8yDo2W3Stwq",
    "outputId": "8b2c3d7c-3707-461a-abcb-7e6bfa044c09"
   },
   "outputs": [
    {
     "data": {
      "application/vnd.google.colaboratory.intrinsic+json": {
       "type": "string"
      },
      "text/plain": [
       "\"\\nDoctor: Hi, Mr. X, I'm Dr. Y. How are you feeling today?\\n\\nPatient: Not too good, doctor. I've been feeling really sick lately.\\n\\nDoctor: I understand. Can you tell me what symptoms you're experiencing?\\n\\nPatient: Yes, I've been having a fever, a dry cough, and dyspnea.\\n\\nDoctor: I see. You were hospitalized due to moderate ARDS from COVID-19, is that correct?\\n\\nPatient: Yes, that's correct.\\n\\nDoctor: During your physical therapy, we encountered some difficulties. Can you tell me more about that?\\n\\nPatient: Yes, I had trouble with position changes and deep breathing. Every time I tried to change my position or take a deep breath, I would start coughing and it would make me really short of breath.\\n\\nDoctor: I understand. To avoid rapid deterioration and respiratory failure, we instructed you to change positions very slowly and step-by-step, right?\\n\\nPatient: Yes, that's right. It took about 30 minutes to change to the prone position.\\n\\nDoctor: And I see that this approach increased your oxygen saturation, for example, on day 5 with 6 L/min of oxygen from 93% to 97%.\\n\\nPatient: Yes, that's correct.\\n\\nDoctor: Good. We also had to adapt your breathing exercises to avoid prolonged coughing and oxygen desaturation. Can you tell me more about that?\\n\\nPatient: Yes, I was instructed to stop every deep breath before coughing and to hold my breath for better air distribution.\\n\\nDoctor: I see that you performed the breathing exercises well and managed to increase your oxygen saturation.\\n\\nPatient: Yes, I did my best.\\n\\nDoctor: You also had difficulty maintaining sufficient oxygen saturation during physical activity, is that correct?\\n\\nPatient: Yes, I did. But with close monitoring and frequent breaks, I was able to perform low-level strength and walking exercises without any significant deoxygenation.\\n\\nDoctor: I see that your exercise progression was low on days 1 to 5, but then increased daily until your hospital discharge to a rehabilitation clinic on day 10.\\n\\nPatient: Yes, that's correct.\\n\\nDoctor: Great. I'd like to keep monitoring your progress and see how you're doing. Can you keep me updated on any changes in your symptoms?\\n\\nPatient: Yes, of course, doctor.\\n\\nDoctor: Alright, let's keep in touch. If you have any questions or concerns, don't hesitate to reach out to me.\\n\\nPatient: Thank you, doctor.\\n\\n\""
      ]
     },
     "execution_count": 7,
     "metadata": {},
     "output_type": "execute_result"
    }
   ],
   "source": [
    "data = df['conversation'][0]\n",
    "data"
   ]
  },
  {
   "cell_type": "code",
   "execution_count": null,
   "metadata": {
    "id": "5tjmu43ZS93U"
   },
   "outputs": [],
   "source": []
  },
  {
   "cell_type": "code",
   "execution_count": null,
   "metadata": {
    "id": "OnrV0OAmS95y"
   },
   "outputs": [],
   "source": [
    "# Function to extract doctor and patient conversations\n",
    "def extract_conversations(df):\n",
    "    # Split the conversation by 'Doctor:' and 'Patient:'\n",
    "    parts = df.split(': ')\n",
    "    # Separate doctor and patient conversations\n",
    "    doctor_conversation = ' '.join([parts[i] for i in range(0, len(parts), 2)])\n",
    "    patient_conversation = ' '.join([parts[i] for i in range(1, len(parts), 2)])\n",
    "    return pd.Series([doctor_conversation, patient_conversation])\n",
    "\n",
    "# Apply the function to the 'conversation' column\n",
    "df[['doctor_conversation', 'patient_conversation']] = df['conversation'].apply(lambda x: extract_conversations(x))"
   ]
  },
  {
   "cell_type": "code",
   "execution_count": 11,
   "metadata": {
    "colab": {
     "base_uri": "https://localhost:8080/",
     "height": 3138
    },
    "id": "scZG8EAGTeQG",
    "outputId": "7e5a46cc-f784-48e2-e6de-65528683cb2c"
   },
   "outputs": [
    {
     "data": {
      "application/vnd.google.colaboratory.intrinsic+json": {
       "summary": "{\n  \"name\": \"df\",\n  \"rows\": 10000,\n  \"fields\": [\n    {\n      \"column\": \"data\",\n      \"properties\": {\n        \"dtype\": \"string\",\n        \"num_unique_values\": 10000,\n        \"samples\": [\n          \"82-year-old Caucasian male, with history of prolapsed anal mass, was observed at the ER. Rectal examination revealed two large (2 cm and 1,8 cm), anterior, amelanocytic polyps, at 1 cm from the anal verge. The patient denied changes in bowel habits or other symptoms.\\nAn elective trans-anal polypectomy was performed. Histopathology showed malignant melanoma: Mixed histology \\u2013 Spindle and epithelioid cells; Thickness - 11 mm; 16 mitosis/mm2; positive margins. Immunohistochemistry showed positivity to PS100, CD117 and HMB45; and negativity to CAM 5.2, AE1/AE3, p63, CD34.\\nAfter a multidisciplinary team discussion, and due to the patient\\u2019s old age, it was decided to propose a second conservative approach: Wide local excision (WLE) (). This time a melanocytic nodule was observed at the same localization of the previous mass. Pathologic examination showed AMM with pure spindle cell histology; 3 mm thick; margins free from disease. A thoracic, abdominal and pelvic CT scan was performed: No signs of distant metastasis.\\nThe patient was sent to the National Cancer Center for follow up.\\nA year later the patient presented with loco regional recurrence - Anal mass and palpable inguinal nodes, without any constitutional symptoms; Underwent surgery once again: WLE and bilateral inguinal and iliac lymphadenectomy. Pathology observed anal recurrence (free margins <1 mm) and lymph node metastasis (15 out of 35 lymph nodes).\\nThree months later, the follow-up PET-CT scan revealed a pulmonary metastasis at the right lower lobe and mediastinal lymph node involvement (). Due to disseminated disease and overall status, the patient did not undergo radio or chemotherapy.\\nFollow-up was performed every three months with clinical examination and imaging (PET-CT or CT scan). The patient died 32 months after the diagnosis, due to disease progression.\",\n          \"A 66-year-old female patient, who was hospitalized in a psychiatric clinic, suddenly developed dysarthria and anisocoria with subsequent loss of consciousness. Without palpable pulses immediate bystander CPR was performed and the patient was transferred to our hospital. On the way CPR of the ventilated patient was continued with a mechanical resuscitation device (LUCAS 2, Physio-Control\\u2122). After 45 minutes of CPR for pulseless electrical activity spontaneous circulation returned as assessed by a palpable carotid pulse, however femoral pulses were absent, precluding cannulation for mechanical circulatory support (MCS). ECG showed ST-segment elevation in leads II, III, aVF, and V6 (). Fast-track echocardiography demonstrated severe dysfunction of the dilated right ventricle. Pericardial effusion and severe aortic regurgitation were absent. Medical history comprised an infrarenal aortic aneurysm. Acute aortic dissection Stanford Type A, De Bakey I with involvement of the right coronary artery was suspected. As percutaneous MCS was not possible without femoral pulses and since Type-A-dissection would have prompted emergency surgery, the heart team decided for immediate computed tomography (CT), which showed no signs of Type A aortic dissection, pulmonary embolism, intracerebral bleeding, or carotid stenosis, but severe ubiquitous aortic calcification. Main findings were as follows: a large ventricular septal rupture with classical radiological signs of acute myocardial infarction (), signs of severe backward failure with contrast agent being observed in hepatic veins, renal veins (), the portal vein and the inferior vena cava (), and thrombotic occlusion of the descending aorta just distal to the left subclavian artery (). The latter was probably facilitated by massive left-to-right shunt and associated severe forward failure. Shortly after the CT scan the patient had to be resuscitated again, but due to futility with subtotal body ischemia without any option for MCS or emergent surgery resuscitation was terminated.\",\n          \"A previously well 15 year old male presented to the Emergency department at 1600 h, 4 hours after a seemingly minor blunt abdominal injury during a weekend soccer match. Initially following the impact of another player's knee to the abdomen, the adolescent rested out of the game for half an hour before returning to play the second half. Following the game, he returned home, tolerated an afternoon meal before the gradual onset of constant, dull, severe, non-radiating, generalised abdominal pain that was not exacerbated by movement. Due to family concerns, the patient presented to our Level I Tertiary referral trauma centre by own means. He was normotensive and not tachycardic. The patient had no significant medical history. Physical examination revealed a guarded abdomen. Focused Assessment with Sonography for Trauma (FAST) suggested a trace of free fluid in the sagittal pelvic image. The initial blood pathology was normal except for an elevation of amylase 410 units/l, lipase 771 units/l and white cell count 12.2 \\u00d7 109/l. He was admitted for observation and serial clinical and FAST assessments.\\nThe patient's symptoms failed to improve after 24 h observation, during which time he developed shoulder tip and central back pain. A repeat FAST 24 h post-admission again revealed possible trace free fluid in the sagittal pelvic images with new concerns regarding trace free fluid to the spleno-renal angle. A computed-tomography (CT) scan was performed with intravenous contrast. This revealed a transverse laceration through the neck of the pancreas with normal enhancement of the pancreas and no pancreatic duct dilatation () consistent with American Association for the Surgery of Trauma (AAST) Organ Injury Scale (OIS) grade IV injury. Additionally there was a small volume, low density intraperitoneal fluid, retroperitoneal stranding, omental contusion and a small linear laceration of the posterior left kidney without peri-nephric collection (AAST-OIS Grade II injury\"\n        ],\n        \"semantic_type\": \"\",\n        \"description\": \"\"\n      }\n    },\n    {\n      \"column\": \"conversation\",\n      \"properties\": {\n        \"dtype\": \"string\",\n        \"num_unique_values\": 10000,\n        \"samples\": [\n          \"Doctor: Good morning, what brings you here today?\\nPatient: Hi, I have a history of prolapsed anal mass.\\nDoctor: I see. Can you tell me more about it?\\nPatient: Well, I was observed at the ER and they did a rectal examination. They found two large polyps in my anus.\\nDoctor: Okay, did you have any symptoms?\\nPatient: No, I didn't have any changes in bowel habits or other symptoms.\\nDoctor: Alright. So, you underwent a polypectomy.\\nPatient: Yes, I did.\\nDoctor: And the histopathology showed that it was a malignant melanoma, right?\\nPatient: Yes, that's correct.\\nDoctor: The melanoma was mixed histology with spindle and epithelioid cells, and it was 11 mm thick with 16 mitosis/mm2.\\nPatient: Hmm, yes.\\nDoctor: And the immunohistochemistry was positive for PS100, CD117 and HMB45, but negative for CAM 5.2, AE1/AE3, p63, and CD34.\\nPatient: Yes, that's what they told me.\\nDoctor: After a multidisciplinary team discussion, we decided to propose a second conservative approach, which was a wide local excision.\\nPatient: Okay.\\nDoctor: This time, a melanocytic nodule was observed at the same localization of the previous mass. The pathologic examination showed AMM with pure spindle cell histology, and it was 3 mm thick with margins free from disease.\\nPatient: Hmm, okay.\\nDoctor: We also performed a thoracic, abdominal and pelvic CT scan, and there were no signs of distant metastasis.\\nPatient: That's good to hear.\\nDoctor: We sent you to the National Cancer Center for follow up.\\nPatient: Yes, I remember.\\nDoctor: A year later, you presented with loco regional recurrence, an anal mass and palpable inguinal nodes.\\nPatient: Yes, that's right.\\nDoctor: And you underwent surgery once again, a wide local excision and bilateral inguinal and iliac lymphadenectomy.\\nPatient: Yes, I did.\\nDoctor: The pathology observed anal recurrence with free margins less than 1 mm, and lymph node metastasis in 15 out of 35 lymph nodes.\\nPatient: Hmm, yes.\\nDoctor: The follow-up PET-CT scan showed a pulmonary metastasis at the right lower lobe and mediastinal lymph node involvement.\\nPatient: Hmm, okay.\\nDoctor: Due to the disseminated disease and your overall status, we decided not to do radio or chemotherapy.\\nPatient: I see.\\nDoctor: We performed follow-up every three months with clinical examination and imaging, either a PET-CT or CT scan.\\nPatient: Okay.\\nDoctor: I'm sorry to inform you that 32 months after the diagnosis, you passed away due to disease progression.\\nPatient's Family: Thank you for everything, doctor.\\nDoctor: You're welcome. I'm very sorry for your loss.\\n\",\n          \"\\nDoctor: Hello, I am Dr. Smith. How are you feeling today?\\n\\nPatient: Not too good. I was hospitalized in a psychiatric clinic and suddenly developed dysarthria and anisocoria.\\n\\nDoctor: Hmm, I see. And then what happened?\\n\\nPatient: I lost consciousness and a bystander performed CPR on me.\\n\\nDoctor: Okay, and then what happened next?\\n\\nPatient: I was transferred to your hospital and they continued the CPR with a mechanical resuscitation device.\\n\\nDoctor: I see. After 45 minutes of CPR, did you regain consciousness?\\n\\nPatient: I don't know. I was unconscious.\\n\\nDoctor: Okay, let me check the medical record. Yes, it says here that after 45 minutes of CPR for pulseless electrical activity, spontaneous circulation returned as assessed by a palpable carotid pulse, but femoral pulses were absent.\\n\\nPatient: Hmm.\\n\\nDoctor: We performed an ECG and it showed ST-segment elevation in leads II, III, aVF, and V6. And we also did a fast-track echocardiography, which demonstrated severe dysfunction of the dilated right ventricle.\\n\\nPatient: Is that serious?\\n\\nDoctor: Yes, it is. And we also found that you have a medical history of an infrarenal aortic aneurysm. So we suspected acute aortic dissection Stanford Type A, De Bakey I with involvement of the right coronary artery.\\n\\nPatient: What did you do next?\\n\\nDoctor: Since percutaneous MCS was not possible without femoral pulses and since Type-A-dissection would have prompted emergency surgery, the heart team decided for immediate computed tomography.\\n\\nPatient: And what did the CT show?\\n\\nDoctor: The CT showed no signs of Type A aortic dissection, pulmonary embolism, intracerebral bleeding, or carotid stenosis, but severe ubiquitous aortic calcification. Our main findings were a large ventricular septal rupture with classical radiological signs of acute myocardial infarction, signs of severe backward failure with contrast agent being observed in hepatic veins, renal veins, the portal vein, and the inferior vena cava, and thrombotic occlusion of the descending aorta just distal to the left subclavian artery.\\n\\nPatient: What does that mean?\\n\\nDoctor: It means that the thrombotic occlusion of the descending aorta was probably facilitated by massive left-to-right shunt and associated severe forward failure.\\n\\nPatient: What happened after the CT scan?\\n\\nDoctor: Unfortunately, shortly after the CT scan, you had to be resuscitated again. But due to futility with subtotal body ischemia without any option for MCS or emergent surgery, resuscitation was terminated.\\n\\n\",\n          \"\\nDoctor: Good afternoon! What brings you here today?\\nPatient: I had a soccer match on the weekend and another player's knee hit me in the abdomen. I took a rest for half an hour but then I continued to play the second half. After the game, I started to feel severe abdominal pain that wouldn't go away.\\nDoctor: I see. Can you tell me more about your pain?\\nPatient: It's constant and dull, and it's all over my abdomen. It doesn't hurt more when I move.\\nDoctor: Hmm, okay. And did you have any medical history before this happened?\\nPatient: No, I'm a healthy 15-year-old boy.\\nDoctor: Alright, let me check your physical examination. Hmm, it seems that your abdomen is guarded. And we did a Focused Assessment with Sonography for Trauma, and it showed a trace of free fluid in the sagittal pelvic image.\\nPatient: Hmm, okay.\\nDoctor: Also, your initial blood pathology was normal except for an elevation of amylase, lipase, and white cell count.\\nPatient: What does that mean?\\nDoctor: It means that there might be some inflammation or injury in your pancreas. That's why we admitted you for observation and serial clinical and FAST assessments.\\nPatient: Okay.\\nDoctor: And I'm sorry to tell you that your symptoms haven't improved after 24 hours of observation. You also developed shoulder tip and central back pain.\\nPatient: Oh no.\\nDoctor: Yes, and after another repeat FAST 24 hours after admission, we found possible trace of free fluid in the sagittal pelvic images and new concerns regarding trace free fluid to the spleno-renal angle.\\nPatient: What does that mean?\\nDoctor: It means that there might be some fluid accumulation in your abdomen and near your spleen and kidney. That's why we decided to perform a CT scan with intravenous contrast.\\nPatient: Okay.\\nDoctor: And the results showed a transverse laceration through the neck of your pancreas, which is consistent with grade IV injury according to the American Association for the Surgery of Trauma Organ Injury Scale.\\nPatient: Is that serious?\\nDoctor: Yes, it is. It means that your pancreas has been severely damaged. But the good news is that the pancreas has normal enhancement and there's no pancreatic duct dilatation.\\nPatient: Hmm, okay.\\nDoctor: Additionally, there's a small volume of low-density intraperitoneal fluid, retroperitoneal stranding, omental contusion, and a small linear laceration of your posterior left kidney without peri-nephric collection, which is consistent with grade II injury.\\nPatient: What does that mean?\\nDoctor: It means that there's some fluid and contusion in your abdomen and a small injury to your left kidney.\\nPatient: What should I do now?\\nDoctor: We need to monitor your condition closely and see if your symptoms improve. You may need further treatment, such as surgery, if your condition worsens.\\nPatient: Okay, thank you, doctor.\\n\\n\"\n        ],\n        \"semantic_type\": \"\",\n        \"description\": \"\"\n      }\n    },\n    {\n      \"column\": \"patient\",\n      \"properties\": {\n        \"dtype\": \"string\",\n        \"num_unique_values\": 10000,\n        \"samples\": [\n          \"Doctor Hi, I have a history of prolapsed anal mass.\\nDoctor Well, I was observed at the ER and they did a rectal examination. They found two large polyps in my anus.\\nDoctor No, I didn't have any changes in bowel habits or other symptoms.\\nDoctor Yes, I did.\\nDoctor Yes, that's correct.\\nDoctor Hmm, yes.\\nDoctor Yes, that's what they told me.\\nDoctor Okay.\\nDoctor Hmm, okay.\\nDoctor That's good to hear.\\nDoctor Yes, I remember.\\nDoctor Yes, that's right.\\nDoctor Yes, I did.\\nDoctor Hmm, yes.\\nDoctor Hmm, okay.\\nDoctor I see.\\nDoctor Okay.\\nDoctor Thank you for everything, doctor.\\nDoctor\",\n          \"\\nDoctor Not too good. I was hospitalized in a psychiatric clinic and suddenly developed dysarthria and anisocoria.\\n\\nDoctor I lost consciousness and a bystander performed CPR on me.\\n\\nDoctor I was transferred to your hospital and they continued the CPR with a mechanical resuscitation device.\\n\\nDoctor I don't know. I was unconscious.\\n\\nDoctor Hmm.\\n\\nDoctor Is that serious?\\n\\nDoctor What did you do next?\\n\\nDoctor And what did the CT show?\\n\\nDoctor What does that mean?\\n\\nDoctor What happened after the CT scan?\\n\\nDoctor\",\n          \"\\nDoctor I had a soccer match on the weekend and another player's knee hit me in the abdomen. I took a rest for half an hour but then I continued to play the second half. After the game, I started to feel severe abdominal pain that wouldn't go away.\\nDoctor It's constant and dull, and it's all over my abdomen. It doesn't hurt more when I move.\\nDoctor No, I'm a healthy 15-year-old boy.\\nDoctor Hmm, okay.\\nDoctor What does that mean?\\nDoctor Okay.\\nDoctor Oh no.\\nDoctor What does that mean?\\nDoctor Okay.\\nDoctor Is that serious?\\nDoctor Hmm, okay.\\nDoctor What does that mean?\\nDoctor What should I do now?\\nDoctor Okay, thank you, doctor.\\n\\n\"\n        ],\n        \"semantic_type\": \"\",\n        \"description\": \"\"\n      }\n    },\n    {\n      \"column\": \"doctor\",\n      \"properties\": {\n        \"dtype\": \"string\",\n        \"num_unique_values\": 10000,\n        \"samples\": [\n          \"Good morning, what brings you here today?\\nPatient I see. Can you tell me more about it?\\nPatient Okay, did you have any symptoms?\\nPatient Alright. So, you underwent a polypectomy.\\nPatient And the histopathology showed that it was a malignant melanoma, right?\\nPatient The melanoma was mixed histology with spindle and epithelioid cells, and it was 11 mm thick with 16 mitosis/mm2.\\nPatient And the immunohistochemistry was positive for PS100, CD117 and HMB45, but negative for CAM 5.2, AE1/AE3, p63, and CD34.\\nPatient After a multidisciplinary team discussion, we decided to propose a second conservative approach, which was a wide local excision.\\nPatient This time, a melanocytic nodule was observed at the same localization of the previous mass. The pathologic examination showed AMM with pure spindle cell histology, and it was 3 mm thick with margins free from disease.\\nPatient We also performed a thoracic, abdominal and pelvic CT scan, and there were no signs of distant metastasis.\\nPatient We sent you to the National Cancer Center for follow up.\\nPatient A year later, you presented with loco regional recurrence, an anal mass and palpable inguinal nodes.\\nPatient And you underwent surgery once again, a wide local excision and bilateral inguinal and iliac lymphadenectomy.\\nPatient The pathology observed anal recurrence with free margins less than 1 mm, and lymph node metastasis in 15 out of 35 lymph nodes.\\nPatient The follow-up PET-CT scan showed a pulmonary metastasis at the right lower lobe and mediastinal lymph node involvement.\\nPatient Due to the disseminated disease and your overall status, we decided not to do radio or chemotherapy.\\nPatient We performed follow-up every three months with clinical examination and imaging, either a PET-CT or CT scan.\\nPatient I'm sorry to inform you that 32 months after the diagnosis, you passed away due to disease progression.\\nPatient's Family You're welcome. I'm very sorry for your loss.\\n\",\n          \"Hello, I am Dr. Smith. How are you feeling today?\\n\\nPatient Hmm, I see. And then what happened?\\n\\nPatient Okay, and then what happened next?\\n\\nPatient I see. After 45 minutes of CPR, did you regain consciousness?\\n\\nPatient Okay, let me check the medical record. Yes, it says here that after 45 minutes of CPR for pulseless electrical activity, spontaneous circulation returned as assessed by a palpable carotid pulse, but femoral pulses were absent.\\n\\nPatient We performed an ECG and it showed ST-segment elevation in leads II, III, aVF, and V6. And we also did a fast-track echocardiography, which demonstrated severe dysfunction of the dilated right ventricle.\\n\\nPatient Yes, it is. And we also found that you have a medical history of an infrarenal aortic aneurysm. So we suspected acute aortic dissection Stanford Type A, De Bakey I with involvement of the right coronary artery.\\n\\nPatient Since percutaneous MCS was not possible without femoral pulses and since Type-A-dissection would have prompted emergency surgery, the heart team decided for immediate computed tomography.\\n\\nPatient The CT showed no signs of Type A aortic dissection, pulmonary embolism, intracerebral bleeding, or carotid stenosis, but severe ubiquitous aortic calcification. Our main findings were a large ventricular septal rupture with classical radiological signs of acute myocardial infarction, signs of severe backward failure with contrast agent being observed in hepatic veins, renal veins, the portal vein, and the inferior vena cava, and thrombotic occlusion of the descending aorta just distal to the left subclavian artery.\\n\\nPatient It means that the thrombotic occlusion of the descending aorta was probably facilitated by massive left-to-right shunt and associated severe forward failure.\\n\\nPatient Unfortunately, shortly after the CT scan, you had to be resuscitated again. But due to futility with subtotal body ischemia without any option for MCS or emergent surgery, resuscitation was terminated.\\n\\n\",\n          \"Good afternoon! What brings you here today?\\nPatient I see. Can you tell me more about your pain?\\nPatient Hmm, okay. And did you have any medical history before this happened?\\nPatient Alright, let me check your physical examination. Hmm, it seems that your abdomen is guarded. And we did a Focused Assessment with Sonography for Trauma, and it showed a trace of free fluid in the sagittal pelvic image.\\nPatient Also, your initial blood pathology was normal except for an elevation of amylase, lipase, and white cell count.\\nPatient It means that there might be some inflammation or injury in your pancreas. That's why we admitted you for observation and serial clinical and FAST assessments.\\nPatient And I'm sorry to tell you that your symptoms haven't improved after 24 hours of observation. You also developed shoulder tip and central back pain.\\nPatient Yes, and after another repeat FAST 24 hours after admission, we found possible trace of free fluid in the sagittal pelvic images and new concerns regarding trace free fluid to the spleno-renal angle.\\nPatient It means that there might be some fluid accumulation in your abdomen and near your spleen and kidney. That's why we decided to perform a CT scan with intravenous contrast.\\nPatient And the results showed a transverse laceration through the neck of your pancreas, which is consistent with grade IV injury according to the American Association for the Surgery of Trauma Organ Injury Scale.\\nPatient Yes, it is. It means that your pancreas has been severely damaged. But the good news is that the pancreas has normal enhancement and there's no pancreatic duct dilatation.\\nPatient Additionally, there's a small volume of low-density intraperitoneal fluid, retroperitoneal stranding, omental contusion, and a small linear laceration of your posterior left kidney without peri-nephric collection, which is consistent with grade II injury.\\nPatient It means that there's some fluid and contusion in your abdomen and a small injury to your left kidney.\\nPatient We need to monitor your condition closely and see if your symptoms improve. You may need further treatment, such as surgery, if your condition worsens.\\nPatient\"\n        ],\n        \"semantic_type\": \"\",\n        \"description\": \"\"\n      }\n    }\n  ]\n}",
       "type": "dataframe",
       "variable_name": "df"
      },
      "text/html": [
       "\n",
       "  <div id=\"df-29d810c2-29c4-41a8-b414-3d397636fb1a\" class=\"colab-df-container\">\n",
       "    <div>\n",
       "<style scoped>\n",
       "    .dataframe tbody tr th:only-of-type {\n",
       "        vertical-align: middle;\n",
       "    }\n",
       "\n",
       "    .dataframe tbody tr th {\n",
       "        vertical-align: top;\n",
       "    }\n",
       "\n",
       "    .dataframe thead th {\n",
       "        text-align: right;\n",
       "    }\n",
       "</style>\n",
       "<table border=\"1\" class=\"dataframe\">\n",
       "  <thead>\n",
       "    <tr style=\"text-align: right;\">\n",
       "      <th></th>\n",
       "      <th>data</th>\n",
       "      <th>conversation</th>\n",
       "      <th>patient</th>\n",
       "      <th>doctor</th>\n",
       "    </tr>\n",
       "  </thead>\n",
       "  <tbody>\n",
       "    <tr>\n",
       "      <th>0</th>\n",
       "      <td>This 60-year-old male was hospitalized due to ...</td>\n",
       "      <td>\\nDoctor: Hi, Mr. X, I'm Dr. Y. How are you fe...</td>\n",
       "      <td>\\nDoctor Not too good, doctor. I've been feeli...</td>\n",
       "      <td>Hi, Mr. X, I'm Dr. Y. How are you feeling toda...</td>\n",
       "    </tr>\n",
       "    <tr>\n",
       "      <th>1</th>\n",
       "      <td>A 39-year-old man was hospitalized due to an i...</td>\n",
       "      <td>\\nDoctor: Hello, I am Dr. Smith. Can you tell ...</td>\n",
       "      <td>\\nDoctor Yes, I have been feeling very weak an...</td>\n",
       "      <td>Hello, I am Dr. Smith. Can you tell me what br...</td>\n",
       "    </tr>\n",
       "    <tr>\n",
       "      <th>2</th>\n",
       "      <td>One week after a positive COVID-19 result this...</td>\n",
       "      <td>\\nDoctor: Good morning, how are you feeling to...</td>\n",
       "      <td>\\nDoctor Not so good, doctor. I have been feel...</td>\n",
       "      <td>Good morning, how are you feeling today?\\n\\nPa...</td>\n",
       "    </tr>\n",
       "    <tr>\n",
       "      <th>3</th>\n",
       "      <td>This 69-year-old male was admitted to the ICU ...</td>\n",
       "      <td>Doctor: Good morning, sir. How are you feeling...</td>\n",
       "      <td>Doctor Not so good, doctor. I have been feelin...</td>\n",
       "      <td>Good morning, sir. How are you feeling today?\\...</td>\n",
       "    </tr>\n",
       "    <tr>\n",
       "      <th>4</th>\n",
       "      <td>This 57-year-old male was admitted to the ICU ...</td>\n",
       "      <td>\\nDoctor: Good morning, Mr. Patient. How are y...</td>\n",
       "      <td>\\nDoctor I'm not feeling great, doctor. I have...</td>\n",
       "      <td>Good morning, Mr. Patient. How are you feeling...</td>\n",
       "    </tr>\n",
       "  </tbody>\n",
       "</table>\n",
       "</div>\n",
       "    <div class=\"colab-df-buttons\">\n",
       "\n",
       "  <div class=\"colab-df-container\">\n",
       "    <button class=\"colab-df-convert\" onclick=\"convertToInteractive('df-29d810c2-29c4-41a8-b414-3d397636fb1a')\"\n",
       "            title=\"Convert this dataframe to an interactive table.\"\n",
       "            style=\"display:none;\">\n",
       "\n",
       "  <svg xmlns=\"http://www.w3.org/2000/svg\" height=\"24px\" viewBox=\"0 -960 960 960\">\n",
       "    <path d=\"M120-120v-720h720v720H120Zm60-500h600v-160H180v160Zm220 220h160v-160H400v160Zm0 220h160v-160H400v160ZM180-400h160v-160H180v160Zm440 0h160v-160H620v160ZM180-180h160v-160H180v160Zm440 0h160v-160H620v160Z\"/>\n",
       "  </svg>\n",
       "    </button>\n",
       "\n",
       "  <style>\n",
       "    .colab-df-container {\n",
       "      display:flex;\n",
       "      gap: 12px;\n",
       "    }\n",
       "\n",
       "    .colab-df-convert {\n",
       "      background-color: #E8F0FE;\n",
       "      border: none;\n",
       "      border-radius: 50%;\n",
       "      cursor: pointer;\n",
       "      display: none;\n",
       "      fill: #1967D2;\n",
       "      height: 32px;\n",
       "      padding: 0 0 0 0;\n",
       "      width: 32px;\n",
       "    }\n",
       "\n",
       "    .colab-df-convert:hover {\n",
       "      background-color: #E2EBFA;\n",
       "      box-shadow: 0px 1px 2px rgba(60, 64, 67, 0.3), 0px 1px 3px 1px rgba(60, 64, 67, 0.15);\n",
       "      fill: #174EA6;\n",
       "    }\n",
       "\n",
       "    .colab-df-buttons div {\n",
       "      margin-bottom: 4px;\n",
       "    }\n",
       "\n",
       "    [theme=dark] .colab-df-convert {\n",
       "      background-color: #3B4455;\n",
       "      fill: #D2E3FC;\n",
       "    }\n",
       "\n",
       "    [theme=dark] .colab-df-convert:hover {\n",
       "      background-color: #434B5C;\n",
       "      box-shadow: 0px 1px 3px 1px rgba(0, 0, 0, 0.15);\n",
       "      filter: drop-shadow(0px 1px 2px rgba(0, 0, 0, 0.3));\n",
       "      fill: #FFFFFF;\n",
       "    }\n",
       "  </style>\n",
       "\n",
       "    <script>\n",
       "      const buttonEl =\n",
       "        document.querySelector('#df-29d810c2-29c4-41a8-b414-3d397636fb1a button.colab-df-convert');\n",
       "      buttonEl.style.display =\n",
       "        google.colab.kernel.accessAllowed ? 'block' : 'none';\n",
       "\n",
       "      async function convertToInteractive(key) {\n",
       "        const element = document.querySelector('#df-29d810c2-29c4-41a8-b414-3d397636fb1a');\n",
       "        const dataTable =\n",
       "          await google.colab.kernel.invokeFunction('convertToInteractive',\n",
       "                                                    [key], {});\n",
       "        if (!dataTable) return;\n",
       "\n",
       "        const docLinkHtml = 'Like what you see? Visit the ' +\n",
       "          '<a target=\"_blank\" href=https://colab.research.google.com/notebooks/data_table.ipynb>data table notebook</a>'\n",
       "          + ' to learn more about interactive tables.';\n",
       "        element.innerHTML = '';\n",
       "        dataTable['output_type'] = 'display_data';\n",
       "        await google.colab.output.renderOutput(dataTable, element);\n",
       "        const docLink = document.createElement('div');\n",
       "        docLink.innerHTML = docLinkHtml;\n",
       "        element.appendChild(docLink);\n",
       "      }\n",
       "    </script>\n",
       "  </div>\n",
       "\n",
       "\n",
       "<div id=\"df-e659e4b7-0e4d-4140-b1f7-675629c2fa3a\">\n",
       "  <button class=\"colab-df-quickchart\" onclick=\"quickchart('df-e659e4b7-0e4d-4140-b1f7-675629c2fa3a')\"\n",
       "            title=\"Suggest charts\"\n",
       "            style=\"display:none;\">\n",
       "\n",
       "<svg xmlns=\"http://www.w3.org/2000/svg\" height=\"24px\"viewBox=\"0 0 24 24\"\n",
       "     width=\"24px\">\n",
       "    <g>\n",
       "        <path d=\"M19 3H5c-1.1 0-2 .9-2 2v14c0 1.1.9 2 2 2h14c1.1 0 2-.9 2-2V5c0-1.1-.9-2-2-2zM9 17H7v-7h2v7zm4 0h-2V7h2v10zm4 0h-2v-4h2v4z\"/>\n",
       "    </g>\n",
       "</svg>\n",
       "  </button>\n",
       "\n",
       "<style>\n",
       "  .colab-df-quickchart {\n",
       "      --bg-color: #E8F0FE;\n",
       "      --fill-color: #1967D2;\n",
       "      --hover-bg-color: #E2EBFA;\n",
       "      --hover-fill-color: #174EA6;\n",
       "      --disabled-fill-color: #AAA;\n",
       "      --disabled-bg-color: #DDD;\n",
       "  }\n",
       "\n",
       "  [theme=dark] .colab-df-quickchart {\n",
       "      --bg-color: #3B4455;\n",
       "      --fill-color: #D2E3FC;\n",
       "      --hover-bg-color: #434B5C;\n",
       "      --hover-fill-color: #FFFFFF;\n",
       "      --disabled-bg-color: #3B4455;\n",
       "      --disabled-fill-color: #666;\n",
       "  }\n",
       "\n",
       "  .colab-df-quickchart {\n",
       "    background-color: var(--bg-color);\n",
       "    border: none;\n",
       "    border-radius: 50%;\n",
       "    cursor: pointer;\n",
       "    display: none;\n",
       "    fill: var(--fill-color);\n",
       "    height: 32px;\n",
       "    padding: 0;\n",
       "    width: 32px;\n",
       "  }\n",
       "\n",
       "  .colab-df-quickchart:hover {\n",
       "    background-color: var(--hover-bg-color);\n",
       "    box-shadow: 0 1px 2px rgba(60, 64, 67, 0.3), 0 1px 3px 1px rgba(60, 64, 67, 0.15);\n",
       "    fill: var(--button-hover-fill-color);\n",
       "  }\n",
       "\n",
       "  .colab-df-quickchart-complete:disabled,\n",
       "  .colab-df-quickchart-complete:disabled:hover {\n",
       "    background-color: var(--disabled-bg-color);\n",
       "    fill: var(--disabled-fill-color);\n",
       "    box-shadow: none;\n",
       "  }\n",
       "\n",
       "  .colab-df-spinner {\n",
       "    border: 2px solid var(--fill-color);\n",
       "    border-color: transparent;\n",
       "    border-bottom-color: var(--fill-color);\n",
       "    animation:\n",
       "      spin 1s steps(1) infinite;\n",
       "  }\n",
       "\n",
       "  @keyframes spin {\n",
       "    0% {\n",
       "      border-color: transparent;\n",
       "      border-bottom-color: var(--fill-color);\n",
       "      border-left-color: var(--fill-color);\n",
       "    }\n",
       "    20% {\n",
       "      border-color: transparent;\n",
       "      border-left-color: var(--fill-color);\n",
       "      border-top-color: var(--fill-color);\n",
       "    }\n",
       "    30% {\n",
       "      border-color: transparent;\n",
       "      border-left-color: var(--fill-color);\n",
       "      border-top-color: var(--fill-color);\n",
       "      border-right-color: var(--fill-color);\n",
       "    }\n",
       "    40% {\n",
       "      border-color: transparent;\n",
       "      border-right-color: var(--fill-color);\n",
       "      border-top-color: var(--fill-color);\n",
       "    }\n",
       "    60% {\n",
       "      border-color: transparent;\n",
       "      border-right-color: var(--fill-color);\n",
       "    }\n",
       "    80% {\n",
       "      border-color: transparent;\n",
       "      border-right-color: var(--fill-color);\n",
       "      border-bottom-color: var(--fill-color);\n",
       "    }\n",
       "    90% {\n",
       "      border-color: transparent;\n",
       "      border-bottom-color: var(--fill-color);\n",
       "    }\n",
       "  }\n",
       "</style>\n",
       "\n",
       "  <script>\n",
       "    async function quickchart(key) {\n",
       "      const quickchartButtonEl =\n",
       "        document.querySelector('#' + key + ' button');\n",
       "      quickchartButtonEl.disabled = true;  // To prevent multiple clicks.\n",
       "      quickchartButtonEl.classList.add('colab-df-spinner');\n",
       "      try {\n",
       "        const charts = await google.colab.kernel.invokeFunction(\n",
       "            'suggestCharts', [key], {});\n",
       "      } catch (error) {\n",
       "        console.error('Error during call to suggestCharts:', error);\n",
       "      }\n",
       "      quickchartButtonEl.classList.remove('colab-df-spinner');\n",
       "      quickchartButtonEl.classList.add('colab-df-quickchart-complete');\n",
       "    }\n",
       "    (() => {\n",
       "      let quickchartButtonEl =\n",
       "        document.querySelector('#df-e659e4b7-0e4d-4140-b1f7-675629c2fa3a button');\n",
       "      quickchartButtonEl.style.display =\n",
       "        google.colab.kernel.accessAllowed ? 'block' : 'none';\n",
       "    })();\n",
       "  </script>\n",
       "</div>\n",
       "\n",
       "    </div>\n",
       "  </div>\n"
      ],
      "text/plain": [
       "                                                data  \\\n",
       "0  This 60-year-old male was hospitalized due to ...   \n",
       "1  A 39-year-old man was hospitalized due to an i...   \n",
       "2  One week after a positive COVID-19 result this...   \n",
       "3  This 69-year-old male was admitted to the ICU ...   \n",
       "4  This 57-year-old male was admitted to the ICU ...   \n",
       "\n",
       "                                        conversation  \\\n",
       "0  \\nDoctor: Hi, Mr. X, I'm Dr. Y. How are you fe...   \n",
       "1  \\nDoctor: Hello, I am Dr. Smith. Can you tell ...   \n",
       "2  \\nDoctor: Good morning, how are you feeling to...   \n",
       "3  Doctor: Good morning, sir. How are you feeling...   \n",
       "4  \\nDoctor: Good morning, Mr. Patient. How are y...   \n",
       "\n",
       "                                             patient  \\\n",
       "0  \\nDoctor Not too good, doctor. I've been feeli...   \n",
       "1  \\nDoctor Yes, I have been feeling very weak an...   \n",
       "2  \\nDoctor Not so good, doctor. I have been feel...   \n",
       "3  Doctor Not so good, doctor. I have been feelin...   \n",
       "4  \\nDoctor I'm not feeling great, doctor. I have...   \n",
       "\n",
       "                                              doctor  \n",
       "0  Hi, Mr. X, I'm Dr. Y. How are you feeling toda...  \n",
       "1  Hello, I am Dr. Smith. Can you tell me what br...  \n",
       "2  Good morning, how are you feeling today?\\n\\nPa...  \n",
       "3  Good morning, sir. How are you feeling today?\\...  \n",
       "4  Good morning, Mr. Patient. How are you feeling...  "
      ]
     },
     "execution_count": 11,
     "metadata": {},
     "output_type": "execute_result"
    }
   ],
   "source": [
    "# Rename multiple column names\n",
    "df.rename(columns={'doctor_conversation': 'patient', 'patient_conversation': 'doctor'}, inplace=True)\n",
    "df.head()"
   ]
  },
  {
   "cell_type": "code",
   "execution_count": 13,
   "metadata": {
    "id": "RrVLg4DPS972"
   },
   "outputs": [],
   "source": [
    "df.to_csv('medical_conversations.csv', index=False)"
   ]
  },
  {
   "cell_type": "code",
   "execution_count": null,
   "metadata": {},
   "outputs": [],
   "source": [
    "# !pip install pandas"
   ]
  },
  {
   "cell_type": "code",
   "execution_count": 2,
   "metadata": {
    "colab": {
     "base_uri": "https://localhost:8080/",
     "height": 206
    },
    "id": "ViWPuo6NWgb-",
    "outputId": "3be2d409-a81f-45fb-8079-2da0c754b3b8"
   },
   "outputs": [
    {
     "data": {
      "text/html": [
       "<div>\n",
       "<style scoped>\n",
       "    .dataframe tbody tr th:only-of-type {\n",
       "        vertical-align: middle;\n",
       "    }\n",
       "\n",
       "    .dataframe tbody tr th {\n",
       "        vertical-align: top;\n",
       "    }\n",
       "\n",
       "    .dataframe thead th {\n",
       "        text-align: right;\n",
       "    }\n",
       "</style>\n",
       "<table border=\"1\" class=\"dataframe\">\n",
       "  <thead>\n",
       "    <tr style=\"text-align: right;\">\n",
       "      <th></th>\n",
       "      <th>data</th>\n",
       "      <th>conversation</th>\n",
       "      <th>patient</th>\n",
       "      <th>doctor</th>\n",
       "    </tr>\n",
       "  </thead>\n",
       "  <tbody>\n",
       "    <tr>\n",
       "      <th>0</th>\n",
       "      <td>This 60-year-old male was hospitalized due to ...</td>\n",
       "      <td>\\nDoctor: Hi, Mr. X, I'm Dr. Y. How are you fe...</td>\n",
       "      <td>\\nDoctor Not too good, doctor. I've been feeli...</td>\n",
       "      <td>Hi, Mr. X, I'm Dr. Y. How are you feeling toda...</td>\n",
       "    </tr>\n",
       "    <tr>\n",
       "      <th>1</th>\n",
       "      <td>A 39-year-old man was hospitalized due to an i...</td>\n",
       "      <td>\\nDoctor: Hello, I am Dr. Smith. Can you tell ...</td>\n",
       "      <td>\\nDoctor Yes, I have been feeling very weak an...</td>\n",
       "      <td>Hello, I am Dr. Smith. Can you tell me what br...</td>\n",
       "    </tr>\n",
       "    <tr>\n",
       "      <th>2</th>\n",
       "      <td>One week after a positive COVID-19 result this...</td>\n",
       "      <td>\\nDoctor: Good morning, how are you feeling to...</td>\n",
       "      <td>\\nDoctor Not so good, doctor. I have been feel...</td>\n",
       "      <td>Good morning, how are you feeling today?\\n\\nPa...</td>\n",
       "    </tr>\n",
       "    <tr>\n",
       "      <th>3</th>\n",
       "      <td>This 69-year-old male was admitted to the ICU ...</td>\n",
       "      <td>Doctor: Good morning, sir. How are you feeling...</td>\n",
       "      <td>Doctor Not so good, doctor. I have been feelin...</td>\n",
       "      <td>Good morning, sir. How are you feeling today?\\...</td>\n",
       "    </tr>\n",
       "    <tr>\n",
       "      <th>4</th>\n",
       "      <td>This 57-year-old male was admitted to the ICU ...</td>\n",
       "      <td>\\nDoctor: Good morning, Mr. Patient. How are y...</td>\n",
       "      <td>\\nDoctor I'm not feeling great, doctor. I have...</td>\n",
       "      <td>Good morning, Mr. Patient. How are you feeling...</td>\n",
       "    </tr>\n",
       "  </tbody>\n",
       "</table>\n",
       "</div>"
      ],
      "text/plain": [
       "                                                data  \\\n",
       "0  This 60-year-old male was hospitalized due to ...   \n",
       "1  A 39-year-old man was hospitalized due to an i...   \n",
       "2  One week after a positive COVID-19 result this...   \n",
       "3  This 69-year-old male was admitted to the ICU ...   \n",
       "4  This 57-year-old male was admitted to the ICU ...   \n",
       "\n",
       "                                        conversation  \\\n",
       "0  \\nDoctor: Hi, Mr. X, I'm Dr. Y. How are you fe...   \n",
       "1  \\nDoctor: Hello, I am Dr. Smith. Can you tell ...   \n",
       "2  \\nDoctor: Good morning, how are you feeling to...   \n",
       "3  Doctor: Good morning, sir. How are you feeling...   \n",
       "4  \\nDoctor: Good morning, Mr. Patient. How are y...   \n",
       "\n",
       "                                             patient  \\\n",
       "0  \\nDoctor Not too good, doctor. I've been feeli...   \n",
       "1  \\nDoctor Yes, I have been feeling very weak an...   \n",
       "2  \\nDoctor Not so good, doctor. I have been feel...   \n",
       "3  Doctor Not so good, doctor. I have been feelin...   \n",
       "4  \\nDoctor I'm not feeling great, doctor. I have...   \n",
       "\n",
       "                                              doctor  \n",
       "0  Hi, Mr. X, I'm Dr. Y. How are you feeling toda...  \n",
       "1  Hello, I am Dr. Smith. Can you tell me what br...  \n",
       "2  Good morning, how are you feeling today?\\n\\nPa...  \n",
       "3  Good morning, sir. How are you feeling today?\\...  \n",
       "4  Good morning, Mr. Patient. How are you feeling...  "
      ]
     },
     "execution_count": 2,
     "metadata": {},
     "output_type": "execute_result"
    }
   ],
   "source": [
    "import pandas as pd\n",
    "\n",
    "# Load DataFrame from CSV file\n",
    "df = pd.read_csv(\"medical_conversations.csv\")\n",
    "\n",
    "df.head()"
   ]
  },
  {
   "cell_type": "code",
   "execution_count": 3,
   "metadata": {
    "id": "aMjSg1ekWliK"
   },
   "outputs": [],
   "source": [
    "df1 = df.copy()"
   ]
  },
  {
   "cell_type": "code",
   "execution_count": 5,
   "metadata": {},
   "outputs": [
    {
     "data": {
      "text/html": [
       "<div>\n",
       "<style scoped>\n",
       "    .dataframe tbody tr th:only-of-type {\n",
       "        vertical-align: middle;\n",
       "    }\n",
       "\n",
       "    .dataframe tbody tr th {\n",
       "        vertical-align: top;\n",
       "    }\n",
       "\n",
       "    .dataframe thead th {\n",
       "        text-align: right;\n",
       "    }\n",
       "</style>\n",
       "<table border=\"1\" class=\"dataframe\">\n",
       "  <thead>\n",
       "    <tr style=\"text-align: right;\">\n",
       "      <th></th>\n",
       "      <th>data</th>\n",
       "      <th>conversation</th>\n",
       "      <th>patient</th>\n",
       "      <th>doctor</th>\n",
       "    </tr>\n",
       "  </thead>\n",
       "  <tbody>\n",
       "    <tr>\n",
       "      <th>0</th>\n",
       "      <td>This 60-year-old male was hospitalized due to ...</td>\n",
       "      <td>\\nDoctor: Hi, Mr. X, I'm Dr. Y. How are you fe...</td>\n",
       "      <td>\\nDoctor Not too good, doctor. I've been feeli...</td>\n",
       "      <td>Hi, Mr. X, I'm Dr. Y. How are you feeling toda...</td>\n",
       "    </tr>\n",
       "  </tbody>\n",
       "</table>\n",
       "</div>"
      ],
      "text/plain": [
       "                                                data  \\\n",
       "0  This 60-year-old male was hospitalized due to ...   \n",
       "\n",
       "                                        conversation  \\\n",
       "0  \\nDoctor: Hi, Mr. X, I'm Dr. Y. How are you fe...   \n",
       "\n",
       "                                             patient  \\\n",
       "0  \\nDoctor Not too good, doctor. I've been feeli...   \n",
       "\n",
       "                                              doctor  \n",
       "0  Hi, Mr. X, I'm Dr. Y. How are you feeling toda...  "
      ]
     },
     "execution_count": 5,
     "metadata": {},
     "output_type": "execute_result"
    }
   ],
   "source": [
    "df1.head(1)"
   ]
  },
  {
   "cell_type": "code",
   "execution_count": 7,
   "metadata": {},
   "outputs": [
    {
     "data": {
      "text/html": [
       "<div>\n",
       "<style scoped>\n",
       "    .dataframe tbody tr th:only-of-type {\n",
       "        vertical-align: middle;\n",
       "    }\n",
       "\n",
       "    .dataframe tbody tr th {\n",
       "        vertical-align: top;\n",
       "    }\n",
       "\n",
       "    .dataframe thead th {\n",
       "        text-align: right;\n",
       "    }\n",
       "</style>\n",
       "<table border=\"1\" class=\"dataframe\">\n",
       "  <thead>\n",
       "    <tr style=\"text-align: right;\">\n",
       "      <th></th>\n",
       "      <th>convo</th>\n",
       "      <th>label</th>\n",
       "    </tr>\n",
       "  </thead>\n",
       "  <tbody>\n",
       "    <tr>\n",
       "      <th>0</th>\n",
       "      <td>\\nDoctor Not too good, doctor. I've been feeli...</td>\n",
       "      <td>patient</td>\n",
       "    </tr>\n",
       "    <tr>\n",
       "      <th>1</th>\n",
       "      <td>Hi, Mr. X, I'm Dr. Y. How are you feeling toda...</td>\n",
       "      <td>doctor</td>\n",
       "    </tr>\n",
       "    <tr>\n",
       "      <th>2</th>\n",
       "      <td>\\nDoctor Yes, I have been feeling very weak an...</td>\n",
       "      <td>patient</td>\n",
       "    </tr>\n",
       "    <tr>\n",
       "      <th>3</th>\n",
       "      <td>Hello, I am Dr. Smith. Can you tell me what br...</td>\n",
       "      <td>doctor</td>\n",
       "    </tr>\n",
       "    <tr>\n",
       "      <th>4</th>\n",
       "      <td>\\nDoctor Not so good, doctor. I have been feel...</td>\n",
       "      <td>patient</td>\n",
       "    </tr>\n",
       "  </tbody>\n",
       "</table>\n",
       "</div>"
      ],
      "text/plain": [
       "                                               convo    label\n",
       "0  \\nDoctor Not too good, doctor. I've been feeli...  patient\n",
       "1  Hi, Mr. X, I'm Dr. Y. How are you feeling toda...   doctor\n",
       "2  \\nDoctor Yes, I have been feeling very weak an...  patient\n",
       "3  Hello, I am Dr. Smith. Can you tell me what br...   doctor\n",
       "4  \\nDoctor Not so good, doctor. I have been feel...  patient"
      ]
     },
     "execution_count": 7,
     "metadata": {},
     "output_type": "execute_result"
    }
   ],
   "source": [
    "import pandas as pd\n",
    "\n",
    "# Assuming df is your DataFrame containing 'patient' and 'doctor' columns\n",
    "\n",
    "# Create an empty list to store the combined conversations and labels\n",
    "combined_data = []\n",
    "\n",
    "# Iterate through each row in the DataFrame\n",
    "for index, row in df1.iterrows():\n",
    "    # Extract patient and doctor conversations from the row\n",
    "    patient_convo = row['patient']\n",
    "    doctor_convo = row['doctor']\n",
    "    \n",
    "    # Append patient conversation with label 'patient' to the combined data list\n",
    "    combined_data.append({'convo': patient_convo, 'label': 'patient'})\n",
    "    \n",
    "    # Append doctor conversation with label 'doctor' to the combined data list\n",
    "    combined_data.append({'convo': doctor_convo, 'label': 'doctor'})\n",
    "\n",
    "# Convert the combined data list into a DataFrame\n",
    "combined_df = pd.DataFrame(combined_data)\n",
    "\n",
    "# Display the first few rows of the combined DataFrame\n",
    "combined_df.head()"
   ]
  },
  {
   "cell_type": "code",
   "execution_count": 8,
   "metadata": {},
   "outputs": [
    {
     "data": {
      "text/html": [
       "<div>\n",
       "<style scoped>\n",
       "    .dataframe tbody tr th:only-of-type {\n",
       "        vertical-align: middle;\n",
       "    }\n",
       "\n",
       "    .dataframe tbody tr th {\n",
       "        vertical-align: top;\n",
       "    }\n",
       "\n",
       "    .dataframe thead th {\n",
       "        text-align: right;\n",
       "    }\n",
       "</style>\n",
       "<table border=\"1\" class=\"dataframe\">\n",
       "  <thead>\n",
       "    <tr style=\"text-align: right;\">\n",
       "      <th></th>\n",
       "      <th>convo</th>\n",
       "      <th>label</th>\n",
       "    </tr>\n",
       "  </thead>\n",
       "  <tbody>\n",
       "    <tr>\n",
       "      <th>0</th>\n",
       "      <td>\\nDoctor Not too good, doctor. I've been feeli...</td>\n",
       "      <td>patient</td>\n",
       "    </tr>\n",
       "    <tr>\n",
       "      <th>1</th>\n",
       "      <td>Hi, Mr. X, I'm Dr. Y. How are you feeling toda...</td>\n",
       "      <td>doctor</td>\n",
       "    </tr>\n",
       "    <tr>\n",
       "      <th>2</th>\n",
       "      <td>\\nDoctor Yes, I have been feeling very weak an...</td>\n",
       "      <td>patient</td>\n",
       "    </tr>\n",
       "    <tr>\n",
       "      <th>3</th>\n",
       "      <td>Hello, I am Dr. Smith. Can you tell me what br...</td>\n",
       "      <td>doctor</td>\n",
       "    </tr>\n",
       "    <tr>\n",
       "      <th>4</th>\n",
       "      <td>\\nDoctor Not so good, doctor. I have been feel...</td>\n",
       "      <td>patient</td>\n",
       "    </tr>\n",
       "    <tr>\n",
       "      <th>...</th>\n",
       "      <td>...</td>\n",
       "      <td>...</td>\n",
       "    </tr>\n",
       "    <tr>\n",
       "      <th>19995</th>\n",
       "      <td>Good morning, what brings you and your pet her...</td>\n",
       "      <td>doctor</td>\n",
       "    </tr>\n",
       "    <tr>\n",
       "      <th>19996</th>\n",
       "      <td>Doctor I'm fine, thanks. How are you?\\nDoctor ...</td>\n",
       "      <td>patient</td>\n",
       "    </tr>\n",
       "    <tr>\n",
       "      <th>19997</th>\n",
       "      <td>Hi, how are you today?\\nPatient I'm good. So, ...</td>\n",
       "      <td>doctor</td>\n",
       "    </tr>\n",
       "    <tr>\n",
       "      <th>19998</th>\n",
       "      <td>Doctor My 3-year-old neutered male Boxer has b...</td>\n",
       "      <td>patient</td>\n",
       "    </tr>\n",
       "    <tr>\n",
       "      <th>19999</th>\n",
       "      <td>Hello, what brings you here today?\\nPatient I ...</td>\n",
       "      <td>doctor</td>\n",
       "    </tr>\n",
       "  </tbody>\n",
       "</table>\n",
       "<p>20000 rows × 2 columns</p>\n",
       "</div>"
      ],
      "text/plain": [
       "                                                   convo    label\n",
       "0      \\nDoctor Not too good, doctor. I've been feeli...  patient\n",
       "1      Hi, Mr. X, I'm Dr. Y. How are you feeling toda...   doctor\n",
       "2      \\nDoctor Yes, I have been feeling very weak an...  patient\n",
       "3      Hello, I am Dr. Smith. Can you tell me what br...   doctor\n",
       "4      \\nDoctor Not so good, doctor. I have been feel...  patient\n",
       "...                                                  ...      ...\n",
       "19995  Good morning, what brings you and your pet her...   doctor\n",
       "19996  Doctor I'm fine, thanks. How are you?\\nDoctor ...  patient\n",
       "19997  Hi, how are you today?\\nPatient I'm good. So, ...   doctor\n",
       "19998  Doctor My 3-year-old neutered male Boxer has b...  patient\n",
       "19999  Hello, what brings you here today?\\nPatient I ...   doctor\n",
       "\n",
       "[20000 rows x 2 columns]"
      ]
     },
     "execution_count": 8,
     "metadata": {},
     "output_type": "execute_result"
    }
   ],
   "source": [
    "combined_df"
   ]
  },
  {
   "cell_type": "code",
   "execution_count": 9,
   "metadata": {},
   "outputs": [
    {
     "name": "stdout",
     "output_type": "stream",
     "text": [
      "                                               convo    label\n",
      "0  Doctor Not too good, doctor. I've been feeling...  patient\n",
      "1  Hi, Mr. X, I'm Dr. Y. How are you feeling toda...   doctor\n",
      "2  Doctor Yes, I have been feeling very weak and ...  patient\n",
      "3  Hello, I am Dr. Smith. Can you tell me what br...   doctor\n",
      "4  Doctor Not so good, doctor. I have been feelin...  patient\n"
     ]
    }
   ],
   "source": [
    "# Replace '\\n' characters with empty strings in the 'convo' column\n",
    "combined_df['convo'] = combined_df['convo'].str.replace('\\n', '')\n",
    "\n",
    "# Display the first few rows of the DataFrame to verify the changes\n",
    "print(combined_df.head())"
   ]
  },
  {
   "cell_type": "code",
   "execution_count": 16,
   "metadata": {},
   "outputs": [
    {
     "data": {
      "text/html": [
       "<div>\n",
       "<style scoped>\n",
       "    .dataframe tbody tr th:only-of-type {\n",
       "        vertical-align: middle;\n",
       "    }\n",
       "\n",
       "    .dataframe tbody tr th {\n",
       "        vertical-align: top;\n",
       "    }\n",
       "\n",
       "    .dataframe thead th {\n",
       "        text-align: right;\n",
       "    }\n",
       "</style>\n",
       "<table border=\"1\" class=\"dataframe\">\n",
       "  <thead>\n",
       "    <tr style=\"text-align: right;\">\n",
       "      <th></th>\n",
       "      <th>convo</th>\n",
       "      <th>label</th>\n",
       "    </tr>\n",
       "  </thead>\n",
       "  <tbody>\n",
       "    <tr>\n",
       "      <th>19995</th>\n",
       "      <td>Good morning, what brings you and your pet her...</td>\n",
       "      <td>doctor</td>\n",
       "    </tr>\n",
       "    <tr>\n",
       "      <th>19996</th>\n",
       "      <td>Doctor I'm fine, thanks. How are you?Doctor Ye...</td>\n",
       "      <td>patient</td>\n",
       "    </tr>\n",
       "    <tr>\n",
       "      <th>19997</th>\n",
       "      <td>Hi, how are you today?Patient I'm good. So, I ...</td>\n",
       "      <td>doctor</td>\n",
       "    </tr>\n",
       "    <tr>\n",
       "      <th>19998</th>\n",
       "      <td>Doctor My 3-year-old neutered male Boxer has b...</td>\n",
       "      <td>patient</td>\n",
       "    </tr>\n",
       "    <tr>\n",
       "      <th>19999</th>\n",
       "      <td>Hello, what brings you here today?Patient I se...</td>\n",
       "      <td>doctor</td>\n",
       "    </tr>\n",
       "  </tbody>\n",
       "</table>\n",
       "</div>"
      ],
      "text/plain": [
       "                                                   convo    label\n",
       "19995  Good morning, what brings you and your pet her...   doctor\n",
       "19996  Doctor I'm fine, thanks. How are you?Doctor Ye...  patient\n",
       "19997  Hi, how are you today?Patient I'm good. So, I ...   doctor\n",
       "19998  Doctor My 3-year-old neutered male Boxer has b...  patient\n",
       "19999  Hello, what brings you here today?Patient I se...   doctor"
      ]
     },
     "execution_count": 16,
     "metadata": {},
     "output_type": "execute_result"
    }
   ],
   "source": [
    "combined_df.tail()"
   ]
  },
  {
   "cell_type": "code",
   "execution_count": 18,
   "metadata": {},
   "outputs": [
    {
     "data": {
      "text/html": [
       "<div>\n",
       "<style scoped>\n",
       "    .dataframe tbody tr th:only-of-type {\n",
       "        vertical-align: middle;\n",
       "    }\n",
       "\n",
       "    .dataframe tbody tr th {\n",
       "        vertical-align: top;\n",
       "    }\n",
       "\n",
       "    .dataframe thead th {\n",
       "        text-align: right;\n",
       "    }\n",
       "</style>\n",
       "<table border=\"1\" class=\"dataframe\">\n",
       "  <thead>\n",
       "    <tr style=\"text-align: right;\">\n",
       "      <th></th>\n",
       "      <th>convo</th>\n",
       "      <th>label</th>\n",
       "    </tr>\n",
       "  </thead>\n",
       "  <tbody>\n",
       "    <tr>\n",
       "      <th>0</th>\n",
       "      <td>Doctor Not too good, doctor. I've been feeling...</td>\n",
       "      <td>patient</td>\n",
       "    </tr>\n",
       "    <tr>\n",
       "      <th>1</th>\n",
       "      <td>Hi, Mr. X, I'm Dr. Y. How are you feeling toda...</td>\n",
       "      <td>doctor</td>\n",
       "    </tr>\n",
       "    <tr>\n",
       "      <th>2</th>\n",
       "      <td>Doctor Yes, I have been feeling very weak and ...</td>\n",
       "      <td>patient</td>\n",
       "    </tr>\n",
       "    <tr>\n",
       "      <th>3</th>\n",
       "      <td>Hello, I am Dr. Smith. Can you tell me what br...</td>\n",
       "      <td>doctor</td>\n",
       "    </tr>\n",
       "    <tr>\n",
       "      <th>4</th>\n",
       "      <td>Doctor Not so good, doctor. I have been feelin...</td>\n",
       "      <td>patient</td>\n",
       "    </tr>\n",
       "  </tbody>\n",
       "</table>\n",
       "</div>"
      ],
      "text/plain": [
       "                                               convo    label\n",
       "0  Doctor Not too good, doctor. I've been feeling...  patient\n",
       "1  Hi, Mr. X, I'm Dr. Y. How are you feeling toda...   doctor\n",
       "2  Doctor Yes, I have been feeling very weak and ...  patient\n",
       "3  Hello, I am Dr. Smith. Can you tell me what br...   doctor\n",
       "4  Doctor Not so good, doctor. I have been feelin...  patient"
      ]
     },
     "execution_count": 18,
     "metadata": {},
     "output_type": "execute_result"
    }
   ],
   "source": [
    "combined_df.head()"
   ]
  },
  {
   "cell_type": "code",
   "execution_count": 22,
   "metadata": {},
   "outputs": [
    {
     "data": {
      "text/plain": [
       "(20000, 2)"
      ]
     },
     "execution_count": 22,
     "metadata": {},
     "output_type": "execute_result"
    }
   ],
   "source": [
    "# combined_df.shape"
   ]
  },
  {
   "cell_type": "code",
   "execution_count": 20,
   "metadata": {},
   "outputs": [
    {
     "data": {
      "text/plain": [
       "label\n",
       "patient    10000\n",
       "doctor     10000\n",
       "Name: count, dtype: int64"
      ]
     },
     "execution_count": 20,
     "metadata": {},
     "output_type": "execute_result"
    }
   ],
   "source": [
    "combined_df['label'].value_counts() # nothing imbalanced"
   ]
  },
  {
   "cell_type": "code",
   "execution_count": 23,
   "metadata": {},
   "outputs": [],
   "source": [
    "# lambda on doctor = 1, patient = 0\n",
    "combined_df['encode'] = combined_df['label'].apply(lambda x: 1 if x == 'doctor' else 0)"
   ]
  },
  {
   "cell_type": "code",
   "execution_count": 25,
   "metadata": {},
   "outputs": [
    {
     "data": {
      "text/html": [
       "<div>\n",
       "<style scoped>\n",
       "    .dataframe tbody tr th:only-of-type {\n",
       "        vertical-align: middle;\n",
       "    }\n",
       "\n",
       "    .dataframe tbody tr th {\n",
       "        vertical-align: top;\n",
       "    }\n",
       "\n",
       "    .dataframe thead th {\n",
       "        text-align: right;\n",
       "    }\n",
       "</style>\n",
       "<table border=\"1\" class=\"dataframe\">\n",
       "  <thead>\n",
       "    <tr style=\"text-align: right;\">\n",
       "      <th></th>\n",
       "      <th>convo</th>\n",
       "      <th>label</th>\n",
       "      <th>encode</th>\n",
       "    </tr>\n",
       "  </thead>\n",
       "  <tbody>\n",
       "    <tr>\n",
       "      <th>5143</th>\n",
       "      <td>Good morning, what brings you to the emergency...</td>\n",
       "      <td>doctor</td>\n",
       "      <td>1</td>\n",
       "    </tr>\n",
       "    <tr>\n",
       "      <th>119</th>\n",
       "      <td>Hello, how are you feeling today?Patient I see...</td>\n",
       "      <td>doctor</td>\n",
       "      <td>1</td>\n",
       "    </tr>\n",
       "    <tr>\n",
       "      <th>3088</th>\n",
       "      <td>Doctor Hmm, okay. Doctor Yes, he had a persist...</td>\n",
       "      <td>patient</td>\n",
       "      <td>0</td>\n",
       "    </tr>\n",
       "    <tr>\n",
       "      <th>7493</th>\n",
       "      <td>Good morning, I'm Dr. Smith. What brings you h...</td>\n",
       "      <td>doctor</td>\n",
       "      <td>1</td>\n",
       "    </tr>\n",
       "    <tr>\n",
       "      <th>17528</th>\n",
       "      <td>Doctor Hi, I have been having problems with my...</td>\n",
       "      <td>patient</td>\n",
       "      <td>0</td>\n",
       "    </tr>\n",
       "    <tr>\n",
       "      <th>5128</th>\n",
       "      <td>Doctor I'm feeling okay, doctor.Doctor I have ...</td>\n",
       "      <td>patient</td>\n",
       "      <td>0</td>\n",
       "    </tr>\n",
       "    <tr>\n",
       "      <th>12246</th>\n",
       "      <td>Doctor I'm okay, thank you.Doctor Yes, I have ...</td>\n",
       "      <td>patient</td>\n",
       "      <td>0</td>\n",
       "    </tr>\n",
       "    <tr>\n",
       "      <th>19329</th>\n",
       "      <td>Good morning, how are you feeling today?Patien...</td>\n",
       "      <td>doctor</td>\n",
       "      <td>1</td>\n",
       "    </tr>\n",
       "    <tr>\n",
       "      <th>17060</th>\n",
       "      <td>1. Doctor Hi, I came here because of my progre...</td>\n",
       "      <td>patient</td>\n",
       "      <td>0</td>\n",
       "    </tr>\n",
       "    <tr>\n",
       "      <th>4116</th>\n",
       "      <td>Doctor Not too good, doctor. I've been feeling...</td>\n",
       "      <td>patient</td>\n",
       "      <td>0</td>\n",
       "    </tr>\n",
       "  </tbody>\n",
       "</table>\n",
       "</div>"
      ],
      "text/plain": [
       "                                                   convo    label  encode\n",
       "5143   Good morning, what brings you to the emergency...   doctor       1\n",
       "119    Hello, how are you feeling today?Patient I see...   doctor       1\n",
       "3088   Doctor Hmm, okay. Doctor Yes, he had a persist...  patient       0\n",
       "7493   Good morning, I'm Dr. Smith. What brings you h...   doctor       1\n",
       "17528  Doctor Hi, I have been having problems with my...  patient       0\n",
       "5128   Doctor I'm feeling okay, doctor.Doctor I have ...  patient       0\n",
       "12246  Doctor I'm okay, thank you.Doctor Yes, I have ...  patient       0\n",
       "19329  Good morning, how are you feeling today?Patien...   doctor       1\n",
       "17060  1. Doctor Hi, I came here because of my progre...  patient       0\n",
       "4116   Doctor Not too good, doctor. I've been feeling...  patient       0"
      ]
     },
     "execution_count": 25,
     "metadata": {},
     "output_type": "execute_result"
    }
   ],
   "source": [
    "# combined_df.sample(10)"
   ]
  },
  {
   "cell_type": "code",
   "execution_count": 36,
   "metadata": {},
   "outputs": [
    {
     "name": "stderr",
     "output_type": "stream",
     "text": [
      "ERROR: Could not find a version that satisfies the requirement tensorflow-text==2.13.* (from versions: none)\n",
      "ERROR: No matching distribution found for tensorflow-text==2.13.*\n"
     ]
    }
   ],
   "source": [
    "# !pip install -U \"tensorflow-text==2.13.*\""
   ]
  },
  {
   "cell_type": "code",
   "execution_count": 28,
   "metadata": {},
   "outputs": [
    {
     "name": "stdout",
     "output_type": "stream",
     "text": [
      "Train set shape: (16000,) (16000,)\n",
      "Test set shape: (4000,) (4000,)\n"
     ]
    }
   ],
   "source": [
    "# train-test-split sklearn!\n",
    "from sklearn.model_selection import train_test_split\n",
    "\n",
    "# Split the data into train and test sets, maintaining class proportions\n",
    "X_train, X_test, y_train, y_test = train_test_split(combined_df['convo'], combined_df['label'], test_size=0.2, stratify=combined_df['label'], random_state=42)\n",
    "\n",
    "# Display the shapes of train and test sets\n",
    "print(\"Train set shape:\", X_train.shape, y_train.shape)\n",
    "print(\"Test set shape:\", X_test.shape, y_test.shape)"
   ]
  },
  {
   "cell_type": "code",
   "execution_count": 30,
   "metadata": {},
   "outputs": [
    {
     "ename": "ModuleNotFoundError",
     "evalue": "No module named 'tensorflow'",
     "output_type": "error",
     "traceback": [
      "\u001b[1;31m---------------------------------------------------------------------------\u001b[0m",
      "\u001b[1;31mModuleNotFoundError\u001b[0m                       Traceback (most recent call last)",
      "Cell \u001b[1;32mIn[30], line 4\u001b[0m\n\u001b[0;32m      1\u001b[0m \u001b[38;5;66;03m# import BERT model and get embeding vectors for few sample statements\u001b[39;00m\n\u001b[1;32m----> 4\u001b[0m \u001b[38;5;28;01mimport\u001b[39;00m \u001b[38;5;21;01mtensorflow\u001b[39;00m \u001b[38;5;28;01mas\u001b[39;00m \u001b[38;5;21;01mtf\u001b[39;00m\n\u001b[0;32m      5\u001b[0m \u001b[38;5;28;01mimport\u001b[39;00m \u001b[38;5;21;01mtensorflow_hub\u001b[39;00m \u001b[38;5;28;01mas\u001b[39;00m \u001b[38;5;21;01mhub\u001b[39;00m\n\u001b[0;32m      6\u001b[0m \u001b[38;5;28;01mimport\u001b[39;00m \u001b[38;5;21;01mtensorflow_text\u001b[39;00m \u001b[38;5;28;01mas\u001b[39;00m \u001b[38;5;21;01mtext\u001b[39;00m\n",
      "\u001b[1;31mModuleNotFoundError\u001b[0m: No module named 'tensorflow'"
     ]
    }
   ],
   "source": [
    "# import BERT model and get embeding vectors for few sample statements\n",
    "\n",
    "import tensorflow as tf\n",
    "import tensorflow_hub as hub\n",
    "import tensorflow_text as text\n",
    "\n",
    "bert_preprocess = hub.KerasLayer(\"https://tfhub.dev/tensorflow/bert_en_uncased_preprocess/3\")\n",
    "bert_encoder = hub.KerasLayer(\"https://tfhub.dev/tensorflow/bert_en_uncased_L-12_H-768_A-12/4\")"
   ]
  },
  {
   "cell_type": "code",
   "execution_count": null,
   "metadata": {},
   "outputs": [],
   "source": []
  }
 ],
 "metadata": {
  "colab": {
   "provenance": []
  },
  "kernelspec": {
   "display_name": "docMed",
   "language": "python",
   "name": "docmed"
  },
  "language_info": {
   "codemirror_mode": {
    "name": "ipython",
    "version": 3
   },
   "file_extension": ".py",
   "mimetype": "text/x-python",
   "name": "python",
   "nbconvert_exporter": "python",
   "pygments_lexer": "ipython3",
   "version": "3.12.2"
  }
 },
 "nbformat": 4,
 "nbformat_minor": 4
}
