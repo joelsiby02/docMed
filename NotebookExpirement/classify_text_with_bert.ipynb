{
  "cells": [
    {
      "attachments": {},
      "cell_type": "markdown",
      "metadata": {
        "id": "SCjmX4zTCkRK"
      },
      "source": [
        "## Setup\n"
      ]
    },
    {
      "cell_type": "code",
      "execution_count": null,
      "metadata": {
        "id": "q-YbjCkzw0yU"
      },
      "outputs": [],
      "source": [
        "# A dependency of the preprocessing for BERT inputs\n",
        "!pip install -U \"tensorflow-text==2.13.*\""
      ]
    },
    {
      "attachments": {},
      "cell_type": "markdown",
      "metadata": {
        "id": "5w_XlxN1IsRJ"
      },
      "source": [
        "You will use the AdamW optimizer from [tensorflow/models](https://github.com/tensorflow/models)."
      ]
    },
    {
      "cell_type": "code",
      "execution_count": null,
      "metadata": {
        "id": "b-P1ZOA0FkVJ"
      },
      "outputs": [],
      "source": [
        "!pip install \"tf-models-official==2.13.*\""
      ]
    },
    {
      "cell_type": "code",
      "execution_count": 6,
      "metadata": {
        "colab": {
          "base_uri": "https://localhost:8080/",
          "height": 224
        },
        "id": "Xrd-lkM99P02",
        "outputId": "c2254cde-b851-4068-da7f-e1b8c38c4573"
      },
      "outputs": [
        {
          "name": "stdout",
          "output_type": "stream",
          "text": [
            "Drive already mounted at /content/drive; to attempt to forcibly remount, call drive.mount(\"/content/drive\", force_remount=True).\n"
          ]
        },
        {
          "data": {
            "application/vnd.google.colaboratory.intrinsic+json": {
              "summary": "{\n  \"name\": \"df\",\n  \"rows\": 10000,\n  \"fields\": [\n    {\n      \"column\": \"data\",\n      \"properties\": {\n        \"dtype\": \"string\",\n        \"num_unique_values\": 10000,\n        \"samples\": [\n          \"82-year-old Caucasian male, with history of prolapsed anal mass, was observed at the ER. Rectal examination revealed two large (2 cm and 1,8 cm), anterior, amelanocytic polyps, at 1 cm from the anal verge. The patient denied changes in bowel habits or other symptoms.\\nAn elective trans-anal polypectomy was performed. Histopathology showed malignant melanoma: Mixed histology \\u2013 Spindle and epithelioid cells; Thickness - 11 mm; 16 mitosis/mm2; positive margins. Immunohistochemistry showed positivity to PS100, CD117 and HMB45; and negativity to CAM 5.2, AE1/AE3, p63, CD34.\\nAfter a multidisciplinary team discussion, and due to the patient\\u2019s old age, it was decided to propose a second conservative approach: Wide local excision (WLE) (). This time a melanocytic nodule was observed at the same localization of the previous mass. Pathologic examination showed AMM with pure spindle cell histology; 3 mm thick; margins free from disease. A thoracic, abdominal and pelvic CT scan was performed: No signs of distant metastasis.\\nThe patient was sent to the National Cancer Center for follow up.\\nA year later the patient presented with loco regional recurrence - Anal mass and palpable inguinal nodes, without any constitutional symptoms; Underwent surgery once again: WLE and bilateral inguinal and iliac lymphadenectomy. Pathology observed anal recurrence (free margins <1 mm) and lymph node metastasis (15 out of 35 lymph nodes).\\nThree months later, the follow-up PET-CT scan revealed a pulmonary metastasis at the right lower lobe and mediastinal lymph node involvement (). Due to disseminated disease and overall status, the patient did not undergo radio or chemotherapy.\\nFollow-up was performed every three months with clinical examination and imaging (PET-CT or CT scan). The patient died 32 months after the diagnosis, due to disease progression.\",\n          \"A 66-year-old female patient, who was hospitalized in a psychiatric clinic, suddenly developed dysarthria and anisocoria with subsequent loss of consciousness. Without palpable pulses immediate bystander CPR was performed and the patient was transferred to our hospital. On the way CPR of the ventilated patient was continued with a mechanical resuscitation device (LUCAS 2, Physio-Control\\u2122). After 45 minutes of CPR for pulseless electrical activity spontaneous circulation returned as assessed by a palpable carotid pulse, however femoral pulses were absent, precluding cannulation for mechanical circulatory support (MCS). ECG showed ST-segment elevation in leads II, III, aVF, and V6 (). Fast-track echocardiography demonstrated severe dysfunction of the dilated right ventricle. Pericardial effusion and severe aortic regurgitation were absent. Medical history comprised an infrarenal aortic aneurysm. Acute aortic dissection Stanford Type A, De Bakey I with involvement of the right coronary artery was suspected. As percutaneous MCS was not possible without femoral pulses and since Type-A-dissection would have prompted emergency surgery, the heart team decided for immediate computed tomography (CT), which showed no signs of Type A aortic dissection, pulmonary embolism, intracerebral bleeding, or carotid stenosis, but severe ubiquitous aortic calcification. Main findings were as follows: a large ventricular septal rupture with classical radiological signs of acute myocardial infarction (), signs of severe backward failure with contrast agent being observed in hepatic veins, renal veins (), the portal vein and the inferior vena cava (), and thrombotic occlusion of the descending aorta just distal to the left subclavian artery (). The latter was probably facilitated by massive left-to-right shunt and associated severe forward failure. Shortly after the CT scan the patient had to be resuscitated again, but due to futility with subtotal body ischemia without any option for MCS or emergent surgery resuscitation was terminated.\",\n          \"A previously well 15 year old male presented to the Emergency department at 1600 h, 4 hours after a seemingly minor blunt abdominal injury during a weekend soccer match. Initially following the impact of another player's knee to the abdomen, the adolescent rested out of the game for half an hour before returning to play the second half. Following the game, he returned home, tolerated an afternoon meal before the gradual onset of constant, dull, severe, non-radiating, generalised abdominal pain that was not exacerbated by movement. Due to family concerns, the patient presented to our Level I Tertiary referral trauma centre by own means. He was normotensive and not tachycardic. The patient had no significant medical history. Physical examination revealed a guarded abdomen. Focused Assessment with Sonography for Trauma (FAST) suggested a trace of free fluid in the sagittal pelvic image. The initial blood pathology was normal except for an elevation of amylase 410 units/l, lipase 771 units/l and white cell count 12.2 \\u00d7 109/l. He was admitted for observation and serial clinical and FAST assessments.\\nThe patient's symptoms failed to improve after 24 h observation, during which time he developed shoulder tip and central back pain. A repeat FAST 24 h post-admission again revealed possible trace free fluid in the sagittal pelvic images with new concerns regarding trace free fluid to the spleno-renal angle. A computed-tomography (CT) scan was performed with intravenous contrast. This revealed a transverse laceration through the neck of the pancreas with normal enhancement of the pancreas and no pancreatic duct dilatation () consistent with American Association for the Surgery of Trauma (AAST) Organ Injury Scale (OIS) grade IV injury. Additionally there was a small volume, low density intraperitoneal fluid, retroperitoneal stranding, omental contusion and a small linear laceration of the posterior left kidney without peri-nephric collection (AAST-OIS Grade II injury\"\n        ],\n        \"semantic_type\": \"\",\n        \"description\": \"\"\n      }\n    },\n    {\n      \"column\": \"conversation\",\n      \"properties\": {\n        \"dtype\": \"string\",\n        \"num_unique_values\": 10000,\n        \"samples\": [\n          \"Doctor: Good morning, what brings you here today?\\nPatient: Hi, I have a history of prolapsed anal mass.\\nDoctor: I see. Can you tell me more about it?\\nPatient: Well, I was observed at the ER and they did a rectal examination. They found two large polyps in my anus.\\nDoctor: Okay, did you have any symptoms?\\nPatient: No, I didn't have any changes in bowel habits or other symptoms.\\nDoctor: Alright. So, you underwent a polypectomy.\\nPatient: Yes, I did.\\nDoctor: And the histopathology showed that it was a malignant melanoma, right?\\nPatient: Yes, that's correct.\\nDoctor: The melanoma was mixed histology with spindle and epithelioid cells, and it was 11 mm thick with 16 mitosis/mm2.\\nPatient: Hmm, yes.\\nDoctor: And the immunohistochemistry was positive for PS100, CD117 and HMB45, but negative for CAM 5.2, AE1/AE3, p63, and CD34.\\nPatient: Yes, that's what they told me.\\nDoctor: After a multidisciplinary team discussion, we decided to propose a second conservative approach, which was a wide local excision.\\nPatient: Okay.\\nDoctor: This time, a melanocytic nodule was observed at the same localization of the previous mass. The pathologic examination showed AMM with pure spindle cell histology, and it was 3 mm thick with margins free from disease.\\nPatient: Hmm, okay.\\nDoctor: We also performed a thoracic, abdominal and pelvic CT scan, and there were no signs of distant metastasis.\\nPatient: That's good to hear.\\nDoctor: We sent you to the National Cancer Center for follow up.\\nPatient: Yes, I remember.\\nDoctor: A year later, you presented with loco regional recurrence, an anal mass and palpable inguinal nodes.\\nPatient: Yes, that's right.\\nDoctor: And you underwent surgery once again, a wide local excision and bilateral inguinal and iliac lymphadenectomy.\\nPatient: Yes, I did.\\nDoctor: The pathology observed anal recurrence with free margins less than 1 mm, and lymph node metastasis in 15 out of 35 lymph nodes.\\nPatient: Hmm, yes.\\nDoctor: The follow-up PET-CT scan showed a pulmonary metastasis at the right lower lobe and mediastinal lymph node involvement.\\nPatient: Hmm, okay.\\nDoctor: Due to the disseminated disease and your overall status, we decided not to do radio or chemotherapy.\\nPatient: I see.\\nDoctor: We performed follow-up every three months with clinical examination and imaging, either a PET-CT or CT scan.\\nPatient: Okay.\\nDoctor: I'm sorry to inform you that 32 months after the diagnosis, you passed away due to disease progression.\\nPatient's Family: Thank you for everything, doctor.\\nDoctor: You're welcome. I'm very sorry for your loss.\\n\",\n          \"\\nDoctor: Hello, I am Dr. Smith. How are you feeling today?\\n\\nPatient: Not too good. I was hospitalized in a psychiatric clinic and suddenly developed dysarthria and anisocoria.\\n\\nDoctor: Hmm, I see. And then what happened?\\n\\nPatient: I lost consciousness and a bystander performed CPR on me.\\n\\nDoctor: Okay, and then what happened next?\\n\\nPatient: I was transferred to your hospital and they continued the CPR with a mechanical resuscitation device.\\n\\nDoctor: I see. After 45 minutes of CPR, did you regain consciousness?\\n\\nPatient: I don't know. I was unconscious.\\n\\nDoctor: Okay, let me check the medical record. Yes, it says here that after 45 minutes of CPR for pulseless electrical activity, spontaneous circulation returned as assessed by a palpable carotid pulse, but femoral pulses were absent.\\n\\nPatient: Hmm.\\n\\nDoctor: We performed an ECG and it showed ST-segment elevation in leads II, III, aVF, and V6. And we also did a fast-track echocardiography, which demonstrated severe dysfunction of the dilated right ventricle.\\n\\nPatient: Is that serious?\\n\\nDoctor: Yes, it is. And we also found that you have a medical history of an infrarenal aortic aneurysm. So we suspected acute aortic dissection Stanford Type A, De Bakey I with involvement of the right coronary artery.\\n\\nPatient: What did you do next?\\n\\nDoctor: Since percutaneous MCS was not possible without femoral pulses and since Type-A-dissection would have prompted emergency surgery, the heart team decided for immediate computed tomography.\\n\\nPatient: And what did the CT show?\\n\\nDoctor: The CT showed no signs of Type A aortic dissection, pulmonary embolism, intracerebral bleeding, or carotid stenosis, but severe ubiquitous aortic calcification. Our main findings were a large ventricular septal rupture with classical radiological signs of acute myocardial infarction, signs of severe backward failure with contrast agent being observed in hepatic veins, renal veins, the portal vein, and the inferior vena cava, and thrombotic occlusion of the descending aorta just distal to the left subclavian artery.\\n\\nPatient: What does that mean?\\n\\nDoctor: It means that the thrombotic occlusion of the descending aorta was probably facilitated by massive left-to-right shunt and associated severe forward failure.\\n\\nPatient: What happened after the CT scan?\\n\\nDoctor: Unfortunately, shortly after the CT scan, you had to be resuscitated again. But due to futility with subtotal body ischemia without any option for MCS or emergent surgery, resuscitation was terminated.\\n\\n\",\n          \"\\nDoctor: Good afternoon! What brings you here today?\\nPatient: I had a soccer match on the weekend and another player's knee hit me in the abdomen. I took a rest for half an hour but then I continued to play the second half. After the game, I started to feel severe abdominal pain that wouldn't go away.\\nDoctor: I see. Can you tell me more about your pain?\\nPatient: It's constant and dull, and it's all over my abdomen. It doesn't hurt more when I move.\\nDoctor: Hmm, okay. And did you have any medical history before this happened?\\nPatient: No, I'm a healthy 15-year-old boy.\\nDoctor: Alright, let me check your physical examination. Hmm, it seems that your abdomen is guarded. And we did a Focused Assessment with Sonography for Trauma, and it showed a trace of free fluid in the sagittal pelvic image.\\nPatient: Hmm, okay.\\nDoctor: Also, your initial blood pathology was normal except for an elevation of amylase, lipase, and white cell count.\\nPatient: What does that mean?\\nDoctor: It means that there might be some inflammation or injury in your pancreas. That's why we admitted you for observation and serial clinical and FAST assessments.\\nPatient: Okay.\\nDoctor: And I'm sorry to tell you that your symptoms haven't improved after 24 hours of observation. You also developed shoulder tip and central back pain.\\nPatient: Oh no.\\nDoctor: Yes, and after another repeat FAST 24 hours after admission, we found possible trace of free fluid in the sagittal pelvic images and new concerns regarding trace free fluid to the spleno-renal angle.\\nPatient: What does that mean?\\nDoctor: It means that there might be some fluid accumulation in your abdomen and near your spleen and kidney. That's why we decided to perform a CT scan with intravenous contrast.\\nPatient: Okay.\\nDoctor: And the results showed a transverse laceration through the neck of your pancreas, which is consistent with grade IV injury according to the American Association for the Surgery of Trauma Organ Injury Scale.\\nPatient: Is that serious?\\nDoctor: Yes, it is. It means that your pancreas has been severely damaged. But the good news is that the pancreas has normal enhancement and there's no pancreatic duct dilatation.\\nPatient: Hmm, okay.\\nDoctor: Additionally, there's a small volume of low-density intraperitoneal fluid, retroperitoneal stranding, omental contusion, and a small linear laceration of your posterior left kidney without peri-nephric collection, which is consistent with grade II injury.\\nPatient: What does that mean?\\nDoctor: It means that there's some fluid and contusion in your abdomen and a small injury to your left kidney.\\nPatient: What should I do now?\\nDoctor: We need to monitor your condition closely and see if your symptoms improve. You may need further treatment, such as surgery, if your condition worsens.\\nPatient: Okay, thank you, doctor.\\n\\n\"\n        ],\n        \"semantic_type\": \"\",\n        \"description\": \"\"\n      }\n    },\n    {\n      \"column\": \"patient\",\n      \"properties\": {\n        \"dtype\": \"string\",\n        \"num_unique_values\": 10000,\n        \"samples\": [\n          \"Doctor Hi, I have a history of prolapsed anal mass.\\nDoctor Well, I was observed at the ER and they did a rectal examination. They found two large polyps in my anus.\\nDoctor No, I didn't have any changes in bowel habits or other symptoms.\\nDoctor Yes, I did.\\nDoctor Yes, that's correct.\\nDoctor Hmm, yes.\\nDoctor Yes, that's what they told me.\\nDoctor Okay.\\nDoctor Hmm, okay.\\nDoctor That's good to hear.\\nDoctor Yes, I remember.\\nDoctor Yes, that's right.\\nDoctor Yes, I did.\\nDoctor Hmm, yes.\\nDoctor Hmm, okay.\\nDoctor I see.\\nDoctor Okay.\\nDoctor Thank you for everything, doctor.\\nDoctor\",\n          \"\\nDoctor Not too good. I was hospitalized in a psychiatric clinic and suddenly developed dysarthria and anisocoria.\\n\\nDoctor I lost consciousness and a bystander performed CPR on me.\\n\\nDoctor I was transferred to your hospital and they continued the CPR with a mechanical resuscitation device.\\n\\nDoctor I don't know. I was unconscious.\\n\\nDoctor Hmm.\\n\\nDoctor Is that serious?\\n\\nDoctor What did you do next?\\n\\nDoctor And what did the CT show?\\n\\nDoctor What does that mean?\\n\\nDoctor What happened after the CT scan?\\n\\nDoctor\",\n          \"\\nDoctor I had a soccer match on the weekend and another player's knee hit me in the abdomen. I took a rest for half an hour but then I continued to play the second half. After the game, I started to feel severe abdominal pain that wouldn't go away.\\nDoctor It's constant and dull, and it's all over my abdomen. It doesn't hurt more when I move.\\nDoctor No, I'm a healthy 15-year-old boy.\\nDoctor Hmm, okay.\\nDoctor What does that mean?\\nDoctor Okay.\\nDoctor Oh no.\\nDoctor What does that mean?\\nDoctor Okay.\\nDoctor Is that serious?\\nDoctor Hmm, okay.\\nDoctor What does that mean?\\nDoctor What should I do now?\\nDoctor Okay, thank you, doctor.\\n\\n\"\n        ],\n        \"semantic_type\": \"\",\n        \"description\": \"\"\n      }\n    },\n    {\n      \"column\": \"doctor\",\n      \"properties\": {\n        \"dtype\": \"string\",\n        \"num_unique_values\": 10000,\n        \"samples\": [\n          \"Good morning, what brings you here today?\\nPatient I see. Can you tell me more about it?\\nPatient Okay, did you have any symptoms?\\nPatient Alright. So, you underwent a polypectomy.\\nPatient And the histopathology showed that it was a malignant melanoma, right?\\nPatient The melanoma was mixed histology with spindle and epithelioid cells, and it was 11 mm thick with 16 mitosis/mm2.\\nPatient And the immunohistochemistry was positive for PS100, CD117 and HMB45, but negative for CAM 5.2, AE1/AE3, p63, and CD34.\\nPatient After a multidisciplinary team discussion, we decided to propose a second conservative approach, which was a wide local excision.\\nPatient This time, a melanocytic nodule was observed at the same localization of the previous mass. The pathologic examination showed AMM with pure spindle cell histology, and it was 3 mm thick with margins free from disease.\\nPatient We also performed a thoracic, abdominal and pelvic CT scan, and there were no signs of distant metastasis.\\nPatient We sent you to the National Cancer Center for follow up.\\nPatient A year later, you presented with loco regional recurrence, an anal mass and palpable inguinal nodes.\\nPatient And you underwent surgery once again, a wide local excision and bilateral inguinal and iliac lymphadenectomy.\\nPatient The pathology observed anal recurrence with free margins less than 1 mm, and lymph node metastasis in 15 out of 35 lymph nodes.\\nPatient The follow-up PET-CT scan showed a pulmonary metastasis at the right lower lobe and mediastinal lymph node involvement.\\nPatient Due to the disseminated disease and your overall status, we decided not to do radio or chemotherapy.\\nPatient We performed follow-up every three months with clinical examination and imaging, either a PET-CT or CT scan.\\nPatient I'm sorry to inform you that 32 months after the diagnosis, you passed away due to disease progression.\\nPatient's Family You're welcome. I'm very sorry for your loss.\\n\",\n          \"Hello, I am Dr. Smith. How are you feeling today?\\n\\nPatient Hmm, I see. And then what happened?\\n\\nPatient Okay, and then what happened next?\\n\\nPatient I see. After 45 minutes of CPR, did you regain consciousness?\\n\\nPatient Okay, let me check the medical record. Yes, it says here that after 45 minutes of CPR for pulseless electrical activity, spontaneous circulation returned as assessed by a palpable carotid pulse, but femoral pulses were absent.\\n\\nPatient We performed an ECG and it showed ST-segment elevation in leads II, III, aVF, and V6. And we also did a fast-track echocardiography, which demonstrated severe dysfunction of the dilated right ventricle.\\n\\nPatient Yes, it is. And we also found that you have a medical history of an infrarenal aortic aneurysm. So we suspected acute aortic dissection Stanford Type A, De Bakey I with involvement of the right coronary artery.\\n\\nPatient Since percutaneous MCS was not possible without femoral pulses and since Type-A-dissection would have prompted emergency surgery, the heart team decided for immediate computed tomography.\\n\\nPatient The CT showed no signs of Type A aortic dissection, pulmonary embolism, intracerebral bleeding, or carotid stenosis, but severe ubiquitous aortic calcification. Our main findings were a large ventricular septal rupture with classical radiological signs of acute myocardial infarction, signs of severe backward failure with contrast agent being observed in hepatic veins, renal veins, the portal vein, and the inferior vena cava, and thrombotic occlusion of the descending aorta just distal to the left subclavian artery.\\n\\nPatient It means that the thrombotic occlusion of the descending aorta was probably facilitated by massive left-to-right shunt and associated severe forward failure.\\n\\nPatient Unfortunately, shortly after the CT scan, you had to be resuscitated again. But due to futility with subtotal body ischemia without any option for MCS or emergent surgery, resuscitation was terminated.\\n\\n\",\n          \"Good afternoon! What brings you here today?\\nPatient I see. Can you tell me more about your pain?\\nPatient Hmm, okay. And did you have any medical history before this happened?\\nPatient Alright, let me check your physical examination. Hmm, it seems that your abdomen is guarded. And we did a Focused Assessment with Sonography for Trauma, and it showed a trace of free fluid in the sagittal pelvic image.\\nPatient Also, your initial blood pathology was normal except for an elevation of amylase, lipase, and white cell count.\\nPatient It means that there might be some inflammation or injury in your pancreas. That's why we admitted you for observation and serial clinical and FAST assessments.\\nPatient And I'm sorry to tell you that your symptoms haven't improved after 24 hours of observation. You also developed shoulder tip and central back pain.\\nPatient Yes, and after another repeat FAST 24 hours after admission, we found possible trace of free fluid in the sagittal pelvic images and new concerns regarding trace free fluid to the spleno-renal angle.\\nPatient It means that there might be some fluid accumulation in your abdomen and near your spleen and kidney. That's why we decided to perform a CT scan with intravenous contrast.\\nPatient And the results showed a transverse laceration through the neck of your pancreas, which is consistent with grade IV injury according to the American Association for the Surgery of Trauma Organ Injury Scale.\\nPatient Yes, it is. It means that your pancreas has been severely damaged. But the good news is that the pancreas has normal enhancement and there's no pancreatic duct dilatation.\\nPatient Additionally, there's a small volume of low-density intraperitoneal fluid, retroperitoneal stranding, omental contusion, and a small linear laceration of your posterior left kidney without peri-nephric collection, which is consistent with grade II injury.\\nPatient It means that there's some fluid and contusion in your abdomen and a small injury to your left kidney.\\nPatient We need to monitor your condition closely and see if your symptoms improve. You may need further treatment, such as surgery, if your condition worsens.\\nPatient\"\n        ],\n        \"semantic_type\": \"\",\n        \"description\": \"\"\n      }\n    }\n  ]\n}",
              "type": "dataframe",
              "variable_name": "df"
            },
            "text/html": [
              "\n",
              "  <div id=\"df-7f5c4de8-7a18-46a5-a64b-60454dfa10dc\" class=\"colab-df-container\">\n",
              "    <div>\n",
              "<style scoped>\n",
              "    .dataframe tbody tr th:only-of-type {\n",
              "        vertical-align: middle;\n",
              "    }\n",
              "\n",
              "    .dataframe tbody tr th {\n",
              "        vertical-align: top;\n",
              "    }\n",
              "\n",
              "    .dataframe thead th {\n",
              "        text-align: right;\n",
              "    }\n",
              "</style>\n",
              "<table border=\"1\" class=\"dataframe\">\n",
              "  <thead>\n",
              "    <tr style=\"text-align: right;\">\n",
              "      <th></th>\n",
              "      <th>data</th>\n",
              "      <th>conversation</th>\n",
              "      <th>patient</th>\n",
              "      <th>doctor</th>\n",
              "    </tr>\n",
              "  </thead>\n",
              "  <tbody>\n",
              "    <tr>\n",
              "      <th>0</th>\n",
              "      <td>This 60-year-old male was hospitalized due to ...</td>\n",
              "      <td>\\nDoctor: Hi, Mr. X, I'm Dr. Y. How are you fe...</td>\n",
              "      <td>\\nDoctor Not too good, doctor. I've been feeli...</td>\n",
              "      <td>Hi, Mr. X, I'm Dr. Y. How are you feeling toda...</td>\n",
              "    </tr>\n",
              "    <tr>\n",
              "      <th>1</th>\n",
              "      <td>A 39-year-old man was hospitalized due to an i...</td>\n",
              "      <td>\\nDoctor: Hello, I am Dr. Smith. Can you tell ...</td>\n",
              "      <td>\\nDoctor Yes, I have been feeling very weak an...</td>\n",
              "      <td>Hello, I am Dr. Smith. Can you tell me what br...</td>\n",
              "    </tr>\n",
              "    <tr>\n",
              "      <th>2</th>\n",
              "      <td>One week after a positive COVID-19 result this...</td>\n",
              "      <td>\\nDoctor: Good morning, how are you feeling to...</td>\n",
              "      <td>\\nDoctor Not so good, doctor. I have been feel...</td>\n",
              "      <td>Good morning, how are you feeling today?\\n\\nPa...</td>\n",
              "    </tr>\n",
              "    <tr>\n",
              "      <th>3</th>\n",
              "      <td>This 69-year-old male was admitted to the ICU ...</td>\n",
              "      <td>Doctor: Good morning, sir. How are you feeling...</td>\n",
              "      <td>Doctor Not so good, doctor. I have been feelin...</td>\n",
              "      <td>Good morning, sir. How are you feeling today?\\...</td>\n",
              "    </tr>\n",
              "    <tr>\n",
              "      <th>4</th>\n",
              "      <td>This 57-year-old male was admitted to the ICU ...</td>\n",
              "      <td>\\nDoctor: Good morning, Mr. Patient. How are y...</td>\n",
              "      <td>\\nDoctor I'm not feeling great, doctor. I have...</td>\n",
              "      <td>Good morning, Mr. Patient. How are you feeling...</td>\n",
              "    </tr>\n",
              "  </tbody>\n",
              "</table>\n",
              "</div>\n",
              "    <div class=\"colab-df-buttons\">\n",
              "\n",
              "  <div class=\"colab-df-container\">\n",
              "    <button class=\"colab-df-convert\" onclick=\"convertToInteractive('df-7f5c4de8-7a18-46a5-a64b-60454dfa10dc')\"\n",
              "            title=\"Convert this dataframe to an interactive table.\"\n",
              "            style=\"display:none;\">\n",
              "\n",
              "  <svg xmlns=\"http://www.w3.org/2000/svg\" height=\"24px\" viewBox=\"0 -960 960 960\">\n",
              "    <path d=\"M120-120v-720h720v720H120Zm60-500h600v-160H180v160Zm220 220h160v-160H400v160Zm0 220h160v-160H400v160ZM180-400h160v-160H180v160Zm440 0h160v-160H620v160ZM180-180h160v-160H180v160Zm440 0h160v-160H620v160Z\"/>\n",
              "  </svg>\n",
              "    </button>\n",
              "\n",
              "  <style>\n",
              "    .colab-df-container {\n",
              "      display:flex;\n",
              "      gap: 12px;\n",
              "    }\n",
              "\n",
              "    .colab-df-convert {\n",
              "      background-color: #E8F0FE;\n",
              "      border: none;\n",
              "      border-radius: 50%;\n",
              "      cursor: pointer;\n",
              "      display: none;\n",
              "      fill: #1967D2;\n",
              "      height: 32px;\n",
              "      padding: 0 0 0 0;\n",
              "      width: 32px;\n",
              "    }\n",
              "\n",
              "    .colab-df-convert:hover {\n",
              "      background-color: #E2EBFA;\n",
              "      box-shadow: 0px 1px 2px rgba(60, 64, 67, 0.3), 0px 1px 3px 1px rgba(60, 64, 67, 0.15);\n",
              "      fill: #174EA6;\n",
              "    }\n",
              "\n",
              "    .colab-df-buttons div {\n",
              "      margin-bottom: 4px;\n",
              "    }\n",
              "\n",
              "    [theme=dark] .colab-df-convert {\n",
              "      background-color: #3B4455;\n",
              "      fill: #D2E3FC;\n",
              "    }\n",
              "\n",
              "    [theme=dark] .colab-df-convert:hover {\n",
              "      background-color: #434B5C;\n",
              "      box-shadow: 0px 1px 3px 1px rgba(0, 0, 0, 0.15);\n",
              "      filter: drop-shadow(0px 1px 2px rgba(0, 0, 0, 0.3));\n",
              "      fill: #FFFFFF;\n",
              "    }\n",
              "  </style>\n",
              "\n",
              "    <script>\n",
              "      const buttonEl =\n",
              "        document.querySelector('#df-7f5c4de8-7a18-46a5-a64b-60454dfa10dc button.colab-df-convert');\n",
              "      buttonEl.style.display =\n",
              "        google.colab.kernel.accessAllowed ? 'block' : 'none';\n",
              "\n",
              "      async function convertToInteractive(key) {\n",
              "        const element = document.querySelector('#df-7f5c4de8-7a18-46a5-a64b-60454dfa10dc');\n",
              "        const dataTable =\n",
              "          await google.colab.kernel.invokeFunction('convertToInteractive',\n",
              "                                                    [key], {});\n",
              "        if (!dataTable) return;\n",
              "\n",
              "        const docLinkHtml = 'Like what you see? Visit the ' +\n",
              "          '<a target=\"_blank\" href=https://colab.research.google.com/notebooks/data_table.ipynb>data table notebook</a>'\n",
              "          + ' to learn more about interactive tables.';\n",
              "        element.innerHTML = '';\n",
              "        dataTable['output_type'] = 'display_data';\n",
              "        await google.colab.output.renderOutput(dataTable, element);\n",
              "        const docLink = document.createElement('div');\n",
              "        docLink.innerHTML = docLinkHtml;\n",
              "        element.appendChild(docLink);\n",
              "      }\n",
              "    </script>\n",
              "  </div>\n",
              "\n",
              "\n",
              "<div id=\"df-03695e4b-a488-4416-9249-ec1a2549cd58\">\n",
              "  <button class=\"colab-df-quickchart\" onclick=\"quickchart('df-03695e4b-a488-4416-9249-ec1a2549cd58')\"\n",
              "            title=\"Suggest charts\"\n",
              "            style=\"display:none;\">\n",
              "\n",
              "<svg xmlns=\"http://www.w3.org/2000/svg\" height=\"24px\"viewBox=\"0 0 24 24\"\n",
              "     width=\"24px\">\n",
              "    <g>\n",
              "        <path d=\"M19 3H5c-1.1 0-2 .9-2 2v14c0 1.1.9 2 2 2h14c1.1 0 2-.9 2-2V5c0-1.1-.9-2-2-2zM9 17H7v-7h2v7zm4 0h-2V7h2v10zm4 0h-2v-4h2v4z\"/>\n",
              "    </g>\n",
              "</svg>\n",
              "  </button>\n",
              "\n",
              "<style>\n",
              "  .colab-df-quickchart {\n",
              "      --bg-color: #E8F0FE;\n",
              "      --fill-color: #1967D2;\n",
              "      --hover-bg-color: #E2EBFA;\n",
              "      --hover-fill-color: #174EA6;\n",
              "      --disabled-fill-color: #AAA;\n",
              "      --disabled-bg-color: #DDD;\n",
              "  }\n",
              "\n",
              "  [theme=dark] .colab-df-quickchart {\n",
              "      --bg-color: #3B4455;\n",
              "      --fill-color: #D2E3FC;\n",
              "      --hover-bg-color: #434B5C;\n",
              "      --hover-fill-color: #FFFFFF;\n",
              "      --disabled-bg-color: #3B4455;\n",
              "      --disabled-fill-color: #666;\n",
              "  }\n",
              "\n",
              "  .colab-df-quickchart {\n",
              "    background-color: var(--bg-color);\n",
              "    border: none;\n",
              "    border-radius: 50%;\n",
              "    cursor: pointer;\n",
              "    display: none;\n",
              "    fill: var(--fill-color);\n",
              "    height: 32px;\n",
              "    padding: 0;\n",
              "    width: 32px;\n",
              "  }\n",
              "\n",
              "  .colab-df-quickchart:hover {\n",
              "    background-color: var(--hover-bg-color);\n",
              "    box-shadow: 0 1px 2px rgba(60, 64, 67, 0.3), 0 1px 3px 1px rgba(60, 64, 67, 0.15);\n",
              "    fill: var(--button-hover-fill-color);\n",
              "  }\n",
              "\n",
              "  .colab-df-quickchart-complete:disabled,\n",
              "  .colab-df-quickchart-complete:disabled:hover {\n",
              "    background-color: var(--disabled-bg-color);\n",
              "    fill: var(--disabled-fill-color);\n",
              "    box-shadow: none;\n",
              "  }\n",
              "\n",
              "  .colab-df-spinner {\n",
              "    border: 2px solid var(--fill-color);\n",
              "    border-color: transparent;\n",
              "    border-bottom-color: var(--fill-color);\n",
              "    animation:\n",
              "      spin 1s steps(1) infinite;\n",
              "  }\n",
              "\n",
              "  @keyframes spin {\n",
              "    0% {\n",
              "      border-color: transparent;\n",
              "      border-bottom-color: var(--fill-color);\n",
              "      border-left-color: var(--fill-color);\n",
              "    }\n",
              "    20% {\n",
              "      border-color: transparent;\n",
              "      border-left-color: var(--fill-color);\n",
              "      border-top-color: var(--fill-color);\n",
              "    }\n",
              "    30% {\n",
              "      border-color: transparent;\n",
              "      border-left-color: var(--fill-color);\n",
              "      border-top-color: var(--fill-color);\n",
              "      border-right-color: var(--fill-color);\n",
              "    }\n",
              "    40% {\n",
              "      border-color: transparent;\n",
              "      border-right-color: var(--fill-color);\n",
              "      border-top-color: var(--fill-color);\n",
              "    }\n",
              "    60% {\n",
              "      border-color: transparent;\n",
              "      border-right-color: var(--fill-color);\n",
              "    }\n",
              "    80% {\n",
              "      border-color: transparent;\n",
              "      border-right-color: var(--fill-color);\n",
              "      border-bottom-color: var(--fill-color);\n",
              "    }\n",
              "    90% {\n",
              "      border-color: transparent;\n",
              "      border-bottom-color: var(--fill-color);\n",
              "    }\n",
              "  }\n",
              "</style>\n",
              "\n",
              "  <script>\n",
              "    async function quickchart(key) {\n",
              "      const quickchartButtonEl =\n",
              "        document.querySelector('#' + key + ' button');\n",
              "      quickchartButtonEl.disabled = true;  // To prevent multiple clicks.\n",
              "      quickchartButtonEl.classList.add('colab-df-spinner');\n",
              "      try {\n",
              "        const charts = await google.colab.kernel.invokeFunction(\n",
              "            'suggestCharts', [key], {});\n",
              "      } catch (error) {\n",
              "        console.error('Error during call to suggestCharts:', error);\n",
              "      }\n",
              "      quickchartButtonEl.classList.remove('colab-df-spinner');\n",
              "      quickchartButtonEl.classList.add('colab-df-quickchart-complete');\n",
              "    }\n",
              "    (() => {\n",
              "      let quickchartButtonEl =\n",
              "        document.querySelector('#df-03695e4b-a488-4416-9249-ec1a2549cd58 button');\n",
              "      quickchartButtonEl.style.display =\n",
              "        google.colab.kernel.accessAllowed ? 'block' : 'none';\n",
              "    })();\n",
              "  </script>\n",
              "</div>\n",
              "\n",
              "    </div>\n",
              "  </div>\n"
            ],
            "text/plain": [
              "                                                data  \\\n",
              "0  This 60-year-old male was hospitalized due to ...   \n",
              "1  A 39-year-old man was hospitalized due to an i...   \n",
              "2  One week after a positive COVID-19 result this...   \n",
              "3  This 69-year-old male was admitted to the ICU ...   \n",
              "4  This 57-year-old male was admitted to the ICU ...   \n",
              "\n",
              "                                        conversation  \\\n",
              "0  \\nDoctor: Hi, Mr. X, I'm Dr. Y. How are you fe...   \n",
              "1  \\nDoctor: Hello, I am Dr. Smith. Can you tell ...   \n",
              "2  \\nDoctor: Good morning, how are you feeling to...   \n",
              "3  Doctor: Good morning, sir. How are you feeling...   \n",
              "4  \\nDoctor: Good morning, Mr. Patient. How are y...   \n",
              "\n",
              "                                             patient  \\\n",
              "0  \\nDoctor Not too good, doctor. I've been feeli...   \n",
              "1  \\nDoctor Yes, I have been feeling very weak an...   \n",
              "2  \\nDoctor Not so good, doctor. I have been feel...   \n",
              "3  Doctor Not so good, doctor. I have been feelin...   \n",
              "4  \\nDoctor I'm not feeling great, doctor. I have...   \n",
              "\n",
              "                                              doctor  \n",
              "0  Hi, Mr. X, I'm Dr. Y. How are you feeling toda...  \n",
              "1  Hello, I am Dr. Smith. Can you tell me what br...  \n",
              "2  Good morning, how are you feeling today?\\n\\nPa...  \n",
              "3  Good morning, sir. How are you feeling today?\\...  \n",
              "4  Good morning, Mr. Patient. How are you feeling...  "
            ]
          },
          "execution_count": 6,
          "metadata": {},
          "output_type": "execute_result"
        }
      ],
      "source": [
        "from google.colab import drive\n",
        "drive.mount('/content/drive')\n",
        "\n",
        "import pandas as pd\n",
        "\n",
        "# Replace 'path_to_your_file' with the actual path to your file\n",
        "df = pd.read_csv('/content/drive/MyDrive/docMed/medical_conversations.csv')\n",
        "\n",
        "df.head()"
      ]
    },
    {
      "cell_type": "code",
      "execution_count": 7,
      "metadata": {
        "colab": {
          "base_uri": "https://localhost:8080/",
          "height": 206
        },
        "id": "nv3Gd8Hw-oo2",
        "outputId": "0b46a9f0-3245-41f8-dd5e-06282291f823"
      },
      "outputs": [
        {
          "data": {
            "application/vnd.google.colaboratory.intrinsic+json": {
              "summary": "{\n  \"name\": \"combined_df\",\n  \"rows\": 20000,\n  \"fields\": [\n    {\n      \"column\": \"convo\",\n      \"properties\": {\n        \"dtype\": \"string\",\n        \"num_unique_values\": 20000,\n        \"samples\": [\n          \"Doctor Hi, I have been experiencing some swelling and bruising on my face, neck, and arms.Doctor It started a few days ago.Doctor I have a past medical history of Grave's disease.Doctor Yes, I have been feeling tired, my neck feels tight, and I have trouble breathing when I do physical activity.Doctor No, I haven't experienced any weight loss and the rest of my review of systems is negative.Doctor I have been smoking for 40 years.Doctor Yes, I was.Doctor Yes, I was receiving 2 L of oxygen.Doctor Yes, I had swelling on my face, neck, and arms, some varicosities on my neck, chest, back, and arms, and I had a mild inspiratory stridor.Doctor Hmm.Doctor What do you mean by SVC syndrome?Doctor Oh.Doctor I see.Doctor Yes, I think my swelling is because of the parasites that I have seen in my nasal secretions and stool.Doctor\",\n          \"Good morning, young man. What brings you to the hospital today?Patient Hmm, I see. When did this happen?Patient Okay, and what happened to your right arm?Patient Hmm, I see. Did you have any pain or deformity in your right elbow and wrist?Patient Okay, and did you have any swelling or skin damage?Patient Okay, and did you have any findings of nerve injury or arterial injury in your right arm?Patient Okay, I see. We did some radiography on your arm and found some fractures and dislocations in your right elbow and wrist.Patient Yes, you have a Bado type III Monteggia injury with ipsilateral fracture of the distal radius and ulna.Patient It means that you have a lateral dislocation of the radial head and a fracture of the proximal ulnar metaphysis, as well as fractures of the distal radius and ulna.Patient We tried to reduce the dislocation manually under nerve block, but it was difficult to maintain the reduction of the radial head. So, we had to perform open reduction and percutaneous procedures under general anesthesia.Patient We inserted a Kirschner wire from the olecranon into the ulnar diaphysis and fixed the fractured distal radius and ulna with Kirschner wires.Patient We put a long-arm cast on your arm with the elbow in 90\\u00b0 flexion and the forearm in an intermediate position.Patient Two weeks after the surgery, we observed callus formation at the fractured bone, so we removed the cast and started range of motion exercises of the elbow and wrist.Patient At 6 weeks after the surgery, the bone union was achieved, so we removed the Kirschner wires.Patient At 3 months after the surgery, you have no pain, ROM limitation, or lateral instability in your elbow or wrist.Patient You're welcome. Keep doing the exercises and come back if you have any problems.Patient\",\n          \"Doctor Good morning, doctor. I have a swelling on the left side of my jaw.Doctor Yes, I had a primary left mandibular ameloblastoma resected 4 years ago.Doctor Well, I started to have some swelling on the left side of my jaw again.Doctor No, just the swelling.Doctor Hmm.Doctor Okay.Doctor Yes, I remember that.Doctor Oh no.Doctor That's good to hear.Doctor Yes, I remember that.Doctor That's great news.Doctor Okay, I will. Thank you, doctor.Doctor\"\n        ],\n        \"semantic_type\": \"\",\n        \"description\": \"\"\n      }\n    },\n    {\n      \"column\": \"label\",\n      \"properties\": {\n        \"dtype\": \"category\",\n        \"num_unique_values\": 2,\n        \"samples\": [\n          \"doctor\",\n          \"patient\"\n        ],\n        \"semantic_type\": \"\",\n        \"description\": \"\"\n      }\n    },\n    {\n      \"column\": \"encode\",\n      \"properties\": {\n        \"dtype\": \"number\",\n        \"std\": 0,\n        \"min\": 0,\n        \"max\": 1,\n        \"num_unique_values\": 2,\n        \"samples\": [\n          1,\n          0\n        ],\n        \"semantic_type\": \"\",\n        \"description\": \"\"\n      }\n    }\n  ]\n}",
              "type": "dataframe",
              "variable_name": "combined_df"
            },
            "text/html": [
              "\n",
              "  <div id=\"df-b850f58e-6341-49fb-ad2c-b2baac0d73d3\" class=\"colab-df-container\">\n",
              "    <div>\n",
              "<style scoped>\n",
              "    .dataframe tbody tr th:only-of-type {\n",
              "        vertical-align: middle;\n",
              "    }\n",
              "\n",
              "    .dataframe tbody tr th {\n",
              "        vertical-align: top;\n",
              "    }\n",
              "\n",
              "    .dataframe thead th {\n",
              "        text-align: right;\n",
              "    }\n",
              "</style>\n",
              "<table border=\"1\" class=\"dataframe\">\n",
              "  <thead>\n",
              "    <tr style=\"text-align: right;\">\n",
              "      <th></th>\n",
              "      <th>convo</th>\n",
              "      <th>label</th>\n",
              "      <th>encode</th>\n",
              "    </tr>\n",
              "  </thead>\n",
              "  <tbody>\n",
              "    <tr>\n",
              "      <th>0</th>\n",
              "      <td>Doctor Not too good, doctor. I've been feeling...</td>\n",
              "      <td>patient</td>\n",
              "      <td>0</td>\n",
              "    </tr>\n",
              "    <tr>\n",
              "      <th>1</th>\n",
              "      <td>Hi, Mr. X, I'm Dr. Y. How are you feeling toda...</td>\n",
              "      <td>doctor</td>\n",
              "      <td>1</td>\n",
              "    </tr>\n",
              "    <tr>\n",
              "      <th>2</th>\n",
              "      <td>Doctor Yes, I have been feeling very weak and ...</td>\n",
              "      <td>patient</td>\n",
              "      <td>0</td>\n",
              "    </tr>\n",
              "    <tr>\n",
              "      <th>3</th>\n",
              "      <td>Hello, I am Dr. Smith. Can you tell me what br...</td>\n",
              "      <td>doctor</td>\n",
              "      <td>1</td>\n",
              "    </tr>\n",
              "    <tr>\n",
              "      <th>4</th>\n",
              "      <td>Doctor Not so good, doctor. I have been feelin...</td>\n",
              "      <td>patient</td>\n",
              "      <td>0</td>\n",
              "    </tr>\n",
              "  </tbody>\n",
              "</table>\n",
              "</div>\n",
              "    <div class=\"colab-df-buttons\">\n",
              "\n",
              "  <div class=\"colab-df-container\">\n",
              "    <button class=\"colab-df-convert\" onclick=\"convertToInteractive('df-b850f58e-6341-49fb-ad2c-b2baac0d73d3')\"\n",
              "            title=\"Convert this dataframe to an interactive table.\"\n",
              "            style=\"display:none;\">\n",
              "\n",
              "  <svg xmlns=\"http://www.w3.org/2000/svg\" height=\"24px\" viewBox=\"0 -960 960 960\">\n",
              "    <path d=\"M120-120v-720h720v720H120Zm60-500h600v-160H180v160Zm220 220h160v-160H400v160Zm0 220h160v-160H400v160ZM180-400h160v-160H180v160Zm440 0h160v-160H620v160ZM180-180h160v-160H180v160Zm440 0h160v-160H620v160Z\"/>\n",
              "  </svg>\n",
              "    </button>\n",
              "\n",
              "  <style>\n",
              "    .colab-df-container {\n",
              "      display:flex;\n",
              "      gap: 12px;\n",
              "    }\n",
              "\n",
              "    .colab-df-convert {\n",
              "      background-color: #E8F0FE;\n",
              "      border: none;\n",
              "      border-radius: 50%;\n",
              "      cursor: pointer;\n",
              "      display: none;\n",
              "      fill: #1967D2;\n",
              "      height: 32px;\n",
              "      padding: 0 0 0 0;\n",
              "      width: 32px;\n",
              "    }\n",
              "\n",
              "    .colab-df-convert:hover {\n",
              "      background-color: #E2EBFA;\n",
              "      box-shadow: 0px 1px 2px rgba(60, 64, 67, 0.3), 0px 1px 3px 1px rgba(60, 64, 67, 0.15);\n",
              "      fill: #174EA6;\n",
              "    }\n",
              "\n",
              "    .colab-df-buttons div {\n",
              "      margin-bottom: 4px;\n",
              "    }\n",
              "\n",
              "    [theme=dark] .colab-df-convert {\n",
              "      background-color: #3B4455;\n",
              "      fill: #D2E3FC;\n",
              "    }\n",
              "\n",
              "    [theme=dark] .colab-df-convert:hover {\n",
              "      background-color: #434B5C;\n",
              "      box-shadow: 0px 1px 3px 1px rgba(0, 0, 0, 0.15);\n",
              "      filter: drop-shadow(0px 1px 2px rgba(0, 0, 0, 0.3));\n",
              "      fill: #FFFFFF;\n",
              "    }\n",
              "  </style>\n",
              "\n",
              "    <script>\n",
              "      const buttonEl =\n",
              "        document.querySelector('#df-b850f58e-6341-49fb-ad2c-b2baac0d73d3 button.colab-df-convert');\n",
              "      buttonEl.style.display =\n",
              "        google.colab.kernel.accessAllowed ? 'block' : 'none';\n",
              "\n",
              "      async function convertToInteractive(key) {\n",
              "        const element = document.querySelector('#df-b850f58e-6341-49fb-ad2c-b2baac0d73d3');\n",
              "        const dataTable =\n",
              "          await google.colab.kernel.invokeFunction('convertToInteractive',\n",
              "                                                    [key], {});\n",
              "        if (!dataTable) return;\n",
              "\n",
              "        const docLinkHtml = 'Like what you see? Visit the ' +\n",
              "          '<a target=\"_blank\" href=https://colab.research.google.com/notebooks/data_table.ipynb>data table notebook</a>'\n",
              "          + ' to learn more about interactive tables.';\n",
              "        element.innerHTML = '';\n",
              "        dataTable['output_type'] = 'display_data';\n",
              "        await google.colab.output.renderOutput(dataTable, element);\n",
              "        const docLink = document.createElement('div');\n",
              "        docLink.innerHTML = docLinkHtml;\n",
              "        element.appendChild(docLink);\n",
              "      }\n",
              "    </script>\n",
              "  </div>\n",
              "\n",
              "\n",
              "<div id=\"df-a9c0d444-fd20-4b68-8080-6f9ce8fe6b6a\">\n",
              "  <button class=\"colab-df-quickchart\" onclick=\"quickchart('df-a9c0d444-fd20-4b68-8080-6f9ce8fe6b6a')\"\n",
              "            title=\"Suggest charts\"\n",
              "            style=\"display:none;\">\n",
              "\n",
              "<svg xmlns=\"http://www.w3.org/2000/svg\" height=\"24px\"viewBox=\"0 0 24 24\"\n",
              "     width=\"24px\">\n",
              "    <g>\n",
              "        <path d=\"M19 3H5c-1.1 0-2 .9-2 2v14c0 1.1.9 2 2 2h14c1.1 0 2-.9 2-2V5c0-1.1-.9-2-2-2zM9 17H7v-7h2v7zm4 0h-2V7h2v10zm4 0h-2v-4h2v4z\"/>\n",
              "    </g>\n",
              "</svg>\n",
              "  </button>\n",
              "\n",
              "<style>\n",
              "  .colab-df-quickchart {\n",
              "      --bg-color: #E8F0FE;\n",
              "      --fill-color: #1967D2;\n",
              "      --hover-bg-color: #E2EBFA;\n",
              "      --hover-fill-color: #174EA6;\n",
              "      --disabled-fill-color: #AAA;\n",
              "      --disabled-bg-color: #DDD;\n",
              "  }\n",
              "\n",
              "  [theme=dark] .colab-df-quickchart {\n",
              "      --bg-color: #3B4455;\n",
              "      --fill-color: #D2E3FC;\n",
              "      --hover-bg-color: #434B5C;\n",
              "      --hover-fill-color: #FFFFFF;\n",
              "      --disabled-bg-color: #3B4455;\n",
              "      --disabled-fill-color: #666;\n",
              "  }\n",
              "\n",
              "  .colab-df-quickchart {\n",
              "    background-color: var(--bg-color);\n",
              "    border: none;\n",
              "    border-radius: 50%;\n",
              "    cursor: pointer;\n",
              "    display: none;\n",
              "    fill: var(--fill-color);\n",
              "    height: 32px;\n",
              "    padding: 0;\n",
              "    width: 32px;\n",
              "  }\n",
              "\n",
              "  .colab-df-quickchart:hover {\n",
              "    background-color: var(--hover-bg-color);\n",
              "    box-shadow: 0 1px 2px rgba(60, 64, 67, 0.3), 0 1px 3px 1px rgba(60, 64, 67, 0.15);\n",
              "    fill: var(--button-hover-fill-color);\n",
              "  }\n",
              "\n",
              "  .colab-df-quickchart-complete:disabled,\n",
              "  .colab-df-quickchart-complete:disabled:hover {\n",
              "    background-color: var(--disabled-bg-color);\n",
              "    fill: var(--disabled-fill-color);\n",
              "    box-shadow: none;\n",
              "  }\n",
              "\n",
              "  .colab-df-spinner {\n",
              "    border: 2px solid var(--fill-color);\n",
              "    border-color: transparent;\n",
              "    border-bottom-color: var(--fill-color);\n",
              "    animation:\n",
              "      spin 1s steps(1) infinite;\n",
              "  }\n",
              "\n",
              "  @keyframes spin {\n",
              "    0% {\n",
              "      border-color: transparent;\n",
              "      border-bottom-color: var(--fill-color);\n",
              "      border-left-color: var(--fill-color);\n",
              "    }\n",
              "    20% {\n",
              "      border-color: transparent;\n",
              "      border-left-color: var(--fill-color);\n",
              "      border-top-color: var(--fill-color);\n",
              "    }\n",
              "    30% {\n",
              "      border-color: transparent;\n",
              "      border-left-color: var(--fill-color);\n",
              "      border-top-color: var(--fill-color);\n",
              "      border-right-color: var(--fill-color);\n",
              "    }\n",
              "    40% {\n",
              "      border-color: transparent;\n",
              "      border-right-color: var(--fill-color);\n",
              "      border-top-color: var(--fill-color);\n",
              "    }\n",
              "    60% {\n",
              "      border-color: transparent;\n",
              "      border-right-color: var(--fill-color);\n",
              "    }\n",
              "    80% {\n",
              "      border-color: transparent;\n",
              "      border-right-color: var(--fill-color);\n",
              "      border-bottom-color: var(--fill-color);\n",
              "    }\n",
              "    90% {\n",
              "      border-color: transparent;\n",
              "      border-bottom-color: var(--fill-color);\n",
              "    }\n",
              "  }\n",
              "</style>\n",
              "\n",
              "  <script>\n",
              "    async function quickchart(key) {\n",
              "      const quickchartButtonEl =\n",
              "        document.querySelector('#' + key + ' button');\n",
              "      quickchartButtonEl.disabled = true;  // To prevent multiple clicks.\n",
              "      quickchartButtonEl.classList.add('colab-df-spinner');\n",
              "      try {\n",
              "        const charts = await google.colab.kernel.invokeFunction(\n",
              "            'suggestCharts', [key], {});\n",
              "      } catch (error) {\n",
              "        console.error('Error during call to suggestCharts:', error);\n",
              "      }\n",
              "      quickchartButtonEl.classList.remove('colab-df-spinner');\n",
              "      quickchartButtonEl.classList.add('colab-df-quickchart-complete');\n",
              "    }\n",
              "    (() => {\n",
              "      let quickchartButtonEl =\n",
              "        document.querySelector('#df-a9c0d444-fd20-4b68-8080-6f9ce8fe6b6a button');\n",
              "      quickchartButtonEl.style.display =\n",
              "        google.colab.kernel.accessAllowed ? 'block' : 'none';\n",
              "    })();\n",
              "  </script>\n",
              "</div>\n",
              "\n",
              "    </div>\n",
              "  </div>\n"
            ],
            "text/plain": [
              "                                               convo    label  encode\n",
              "0  Doctor Not too good, doctor. I've been feeling...  patient       0\n",
              "1  Hi, Mr. X, I'm Dr. Y. How are you feeling toda...   doctor       1\n",
              "2  Doctor Yes, I have been feeling very weak and ...  patient       0\n",
              "3  Hello, I am Dr. Smith. Can you tell me what br...   doctor       1\n",
              "4  Doctor Not so good, doctor. I have been feelin...  patient       0"
            ]
          },
          "execution_count": 7,
          "metadata": {},
          "output_type": "execute_result"
        }
      ],
      "source": [
        "import pandas as pd\n",
        "\n",
        "# Assuming df is your DataFrame containing 'patient' and 'doctor' columns\n",
        "\n",
        "# Create an empty list to store the combined conversations and labels\n",
        "combined_data = []\n",
        "\n",
        "# Iterate through each row in the DataFrame\n",
        "for index, row in df.iterrows():\n",
        "    # Extract patient and doctor conversations from the row\n",
        "    patient_convo = row['patient']\n",
        "    doctor_convo = row['doctor']\n",
        "\n",
        "    # Append patient conversation with label 'patient' to the combined data list\n",
        "    combined_data.append({'convo': patient_convo, 'label': 'patient'})\n",
        "\n",
        "    # Append doctor conversation with label 'doctor' to the combined data list\n",
        "    combined_data.append({'convo': doctor_convo, 'label': 'doctor'})\n",
        "\n",
        "# Convert the combined data list into a DataFrame\n",
        "combined_df = pd.DataFrame(combined_data)\n",
        "\n",
        "# Replace '\\n' characters with empty strings in the 'convo' column\n",
        "combined_df['convo'] = combined_df['convo'].str.replace('\\n', '')\n",
        "\n",
        "# lambda on doctor = 1, patient = 0\n",
        "combined_df['encode'] = combined_df['label'].apply(lambda x: 1 if x == 'doctor' else 0)\n",
        "\n",
        "# Display the first few rows of the DataFrame to verify the changes\n",
        "combined_df.head()"
      ]
    },
    {
      "cell_type": "code",
      "execution_count": 8,
      "metadata": {
        "colab": {
          "base_uri": "https://localhost:8080/"
        },
        "id": "BMUy49OA--6R",
        "outputId": "13aa325b-d79d-4bf0-cc80-f5bfc056e185"
      },
      "outputs": [
        {
          "name": "stdout",
          "output_type": "stream",
          "text": [
            "Train set shape: (16000,) (16000,)\n",
            "Test set shape: (4000,) (4000,)\n"
          ]
        }
      ],
      "source": [
        "# train-test-split sklearn!\n",
        "from sklearn.model_selection import train_test_split\n",
        "\n",
        "# Split the data into train and test sets, maintaining class proportions\n",
        "X_train, X_test, y_train, y_test = train_test_split(combined_df['convo'], combined_df['encode'], test_size=0.2, stratify=combined_df['encode'], random_state=42)\n",
        "\n",
        "# Display the shapes of train and test sets\n",
        "print(\"Train set shape:\", X_train.shape, y_train.shape)\n",
        "print(\"Test set shape:\", X_test.shape, y_test.shape)"
      ]
    },
    {
      "cell_type": "code",
      "execution_count": 9,
      "metadata": {
        "id": "_XgTpm9ZxoN9"
      },
      "outputs": [],
      "source": [
        "# import BERT model and get embeding vectors for few sample statements\n",
        "\n",
        "import tensorflow as tf\n",
        "import tensorflow_hub as hub\n",
        "import tensorflow_text as text\n",
        "import keras\n",
        "\n",
        "bert_preprocess = hub.KerasLayer(\"https://tfhub.dev/tensorflow/bert_en_uncased_preprocess/3\")\n",
        "bert_encoder = hub.KerasLayer(\"https://tfhub.dev/tensorflow/bert_en_uncased_L-12_H-768_A-12/4\")"
      ]
    },
    {
      "cell_type": "code",
      "execution_count": 10,
      "metadata": {
        "id": "jAEerynw9Bdy"
      },
      "outputs": [],
      "source": [
        "# Bert layers\n",
        "text_input = tf.keras.layers.Input(shape=(), dtype=tf.string, name='text')\n",
        "preprocessed_text = bert_preprocess(text_input)\n",
        "outputs = bert_encoder(preprocessed_text)\n",
        "\n",
        "# Neural network layers\n",
        "l = tf.keras.layers.Dropout(0.1, name=\"dropout\")(outputs['pooled_output'])\n",
        "l = tf.keras.layers.Dense(1, activation='sigmoid', name=\"output\")(l)\n",
        "\n",
        "# Use inputs and outputs to construct a final model\n",
        "model = tf.keras.Model(inputs=[text_input], outputs = [l])"
      ]
    },
    {
      "cell_type": "code",
      "execution_count": 11,
      "metadata": {
        "colab": {
          "base_uri": "https://localhost:8080/"
        },
        "id": "tzmI6HHb_2cq",
        "outputId": "05917f35-ae02-4097-f356-001758d0c0ab"
      },
      "outputs": [
        {
          "name": "stdout",
          "output_type": "stream",
          "text": [
            "Model: \"model\"\n",
            "__________________________________________________________________________________________________\n",
            " Layer (type)                Output Shape                 Param #   Connected to                  \n",
            "==================================================================================================\n",
            " text (InputLayer)           [(None,)]                    0         []                            \n",
            "                                                                                                  \n",
            " keras_layer (KerasLayer)    {'input_mask': (None, 128)   0         ['text[0][0]']                \n",
            "                             , 'input_word_ids': (None,                                           \n",
            "                              128),                                                               \n",
            "                              'input_type_ids': (None,                                            \n",
            "                             128)}                                                                \n",
            "                                                                                                  \n",
            " keras_layer_1 (KerasLayer)  {'pooled_output': (None, 7   1094822   ['keras_layer[0][0]',         \n",
            "                             68),                         41         'keras_layer[0][1]',         \n",
            "                              'encoder_outputs': [(None              'keras_layer[0][2]']         \n",
            "                             , 128, 768),                                                         \n",
            "                              (None, 128, 768),                                                   \n",
            "                              (None, 128, 768),                                                   \n",
            "                              (None, 128, 768),                                                   \n",
            "                              (None, 128, 768),                                                   \n",
            "                              (None, 128, 768),                                                   \n",
            "                              (None, 128, 768),                                                   \n",
            "                              (None, 128, 768),                                                   \n",
            "                              (None, 128, 768),                                                   \n",
            "                              (None, 128, 768),                                                   \n",
            "                              (None, 128, 768),                                                   \n",
            "                              (None, 128, 768)],                                                  \n",
            "                              'default': (None, 768),                                             \n",
            "                              'sequence_output': (None,                                           \n",
            "                              128, 768)}                                                          \n",
            "                                                                                                  \n",
            " dropout (Dropout)           (None, 768)                  0         ['keras_layer_1[0][13]']      \n",
            "                                                                                                  \n",
            " output (Dense)              (None, 1)                    769       ['dropout[0][0]']             \n",
            "                                                                                                  \n",
            "==================================================================================================\n",
            "Total params: 109483010 (417.64 MB)\n",
            "Trainable params: 769 (3.00 KB)\n",
            "Non-trainable params: 109482241 (417.64 MB)\n",
            "__________________________________________________________________________________________________\n"
          ]
        }
      ],
      "source": [
        "model.summary()"
      ]
    },
    {
      "cell_type": "code",
      "execution_count": 12,
      "metadata": {
        "id": "et93Fvff_5UA"
      },
      "outputs": [],
      "source": [
        "METRICS = [\n",
        "      tf.keras.metrics.BinaryAccuracy(name='accuracy'),\n",
        "      tf.keras.metrics.Precision(name='precision'),\n",
        "      tf.keras.metrics.Recall(name='recall')\n",
        "]\n",
        "\n",
        "model.compile(optimizer='adam',\n",
        "              loss='binary_crossentropy',\n",
        "              metrics=METRICS)"
      ]
    },
    {
      "cell_type": "code",
      "execution_count": 13,
      "metadata": {
        "colab": {
          "base_uri": "https://localhost:8080/"
        },
        "id": "01AZawVQAGFB",
        "outputId": "32de58b5-48ce-407e-a455-23bfa7b6ca22"
      },
      "outputs": [
        {
          "name": "stdout",
          "output_type": "stream",
          "text": [
            "Epoch 1/3\n",
            "500/500 [==============================] - 7579s 15s/step - loss: 0.3740 - accuracy: 0.8792 - precision: 0.8752 - recall: 0.8845\n",
            "Epoch 2/3\n",
            "500/500 [==============================] - 7443s 15s/step - loss: 0.1591 - accuracy: 0.9747 - precision: 0.9689 - recall: 0.9809\n",
            "Epoch 3/3\n",
            "500/500 [==============================] - 7347s 15s/step - loss: 0.1045 - accuracy: 0.9820 - precision: 0.9770 - recall: 0.9872\n"
          ]
        },
        {
          "data": {
            "text/plain": [
              "<keras.src.callbacks.History at 0x780a6cb2a0b0>"
            ]
          },
          "execution_count": 13,
          "metadata": {},
          "output_type": "execute_result"
        }
      ],
      "source": [
        "model.fit(X_train, y_train, epochs=3)"
      ]
    },
    {
      "cell_type": "code",
      "execution_count": 20,
      "metadata": {
        "colab": {
          "base_uri": "https://localhost:8080/"
        },
        "id": "ufxGhs-LxHf6",
        "outputId": "7b0df937-bb69-42f9-9076-15fd122689b3"
      },
      "outputs": [
        {
          "name": "stdout",
          "output_type": "stream",
          "text": [
            "125/125 [==============================] - 1870s 15s/step\n"
          ]
        }
      ],
      "source": [
        "import keras\n",
        "# Save the trained model\n",
        "model.save('docPat_classifier')\n",
        "\n",
        "# Now you can make predictions using the saved model\n",
        "# Load the model\n",
        "loaded_model = keras.models.load_model('docPat_classifier')\n",
        "\n",
        "# Make predictions on the test set\n",
        "predictions = loaded_model.predict(X_test)"
      ]
    },
    {
      "cell_type": "code",
      "execution_count": 29,
      "metadata": {
        "colab": {
          "base_uri": "https://localhost:8080/"
        },
        "id": "LdD6k4JR6f27",
        "outputId": "6af60a75-8f44-4c1e-cbb7-dadeb6ec24b3"
      },
      "outputs": [
        {
          "data": {
            "text/plain": [
              "array([[1],\n",
              "       [0],\n",
              "       [0],\n",
              "       ...,\n",
              "       [1],\n",
              "       [1],\n",
              "       [1]])"
            ]
          },
          "execution_count": 29,
          "metadata": {},
          "output_type": "execute_result"
        }
      ],
      "source": [
        "import numpy as np\n",
        "\n",
        "predictions = np.where(predictions > 0.65, 1, 0)\n",
        "predictions"
      ]
    },
    {
      "cell_type": "code",
      "execution_count": 30,
      "metadata": {
        "colab": {
          "base_uri": "https://localhost:8080/"
        },
        "id": "5P-MBT2-xjnK",
        "outputId": "b58dd9a9-75e7-45c0-c343-7ed3b1647811"
      },
      "outputs": [
        {
          "data": {
            "text/plain": [
              "array([[1982,   18],\n",
              "       [  28, 1972]])"
            ]
          },
          "execution_count": 30,
          "metadata": {},
          "output_type": "execute_result"
        }
      ],
      "source": [
        "from sklearn.metrics import confusion_matrix, classification_report\n",
        "\n",
        "cm = confusion_matrix(y_test, predictions)\n",
        "cm"
      ]
    },
    {
      "cell_type": "code",
      "execution_count": 31,
      "metadata": {
        "colab": {
          "base_uri": "https://localhost:8080/",
          "height": 466
        },
        "id": "V_7hCSV4xjsK",
        "outputId": "b872d972-fd0e-4412-9170-f19219b97de5"
      },
      "outputs": [
        {
          "data": {
            "text/plain": [
              "Text(50.722222222222214, 0.5, 'Truth')"
            ]
          },
          "execution_count": 31,
          "metadata": {},
          "output_type": "execute_result"
        },
        {
          "data": {
            "image/png": "[encoded data removed]",
            "text/plain": [
              "<Figure size 640x480 with 2 Axes>"
            ]
          },
          "metadata": {},
          "output_type": "display_data"
        }
      ],
      "source": [
        "from matplotlib import pyplot as plt\n",
        "import seaborn as sn\n",
        "sn.heatmap(cm, annot=True, fmt='d')\n",
        "plt.xlabel('Predicted')\n",
        "plt.ylabel('Truth')"
      ]
    },
    {
      "cell_type": "code",
      "execution_count": 32,
      "metadata": {
        "colab": {
          "base_uri": "https://localhost:8080/"
        },
        "id": "0kKvP5lqxjwf",
        "outputId": "d5342ba0-df6f-4010-db98-a934150d277d"
      },
      "outputs": [
        {
          "name": "stdout",
          "output_type": "stream",
          "text": [
            "              precision    recall  f1-score   support\n",
            "\n",
            "           0       0.99      0.99      0.99      2000\n",
            "           1       0.99      0.99      0.99      2000\n",
            "\n",
            "    accuracy                           0.99      4000\n",
            "   macro avg       0.99      0.99      0.99      4000\n",
            "weighted avg       0.99      0.99      0.99      4000\n",
            "\n"
          ]
        }
      ],
      "source": [
        "print(classification_report(y_test, predictions))"
      ]
    },
    {
      "cell_type": "code",
      "execution_count": 58,
      "metadata": {
        "colab": {
          "base_uri": "https://localhost:8080/"
        },
        "id": "341V6ewm9Okd",
        "outputId": "2765a47a-460e-4cc2-dd64-71dc3cde666c"
      },
      "outputs": [
        {
          "name": "stdout",
          "output_type": "stream",
          "text": [
            "1/1 [==============================] - 2s 2s/step\n",
            "['patient', 'doctor', 'patient', 'doctor', 'patient', 'doctor']\n"
          ]
        }
      ],
      "source": [
        "import numpy as np\n",
        "\n",
        "# Define the reviews\n",
        "reviews = [\n",
        "    'I have severe headache doctor',\n",
        "    'I understand. Can you tell me what symptoms you\\'re experiencing? Patient: Yes, I\\'ve been having a fever, a dry cough, and dyspnea. ',\n",
        "    'These days I couldn\\'t sleep doctor',\n",
        "    'Take 2 pills every day before sleep and visit me after 10 days from today',\n",
        "    'So I should visit you after 3 days yes doctor',\n",
        "    'You were hospitalized due to moderate ARDS from COVID-19, is that correct?'\n",
        "]\n",
        "\n",
        "# Make predictions\n",
        "predictions = model.predict(reviews)\n",
        "\n",
        "# Define a threshold for classification\n",
        "threshold = 0.4\n",
        "\n",
        "# Classify each prediction based on the threshold\n",
        "classified_predictions = ['doctor' if pred > threshold else 'patient' for pred in predictions]\n",
        "\n",
        "# Print the classified predictions\n",
        "print(classified_predictions)"
      ]
    },
    {
      "cell_type": "code",
      "execution_count": 42,
      "metadata": {
        "colab": {
          "base_uri": "https://localhost:8080/"
        },
        "id": "vaJ71TNvAIFD",
        "outputId": "7833f4d2-909d-4d22-a81d-02eb354c644b"
      },
      "outputs": [
        {
          "data": {
            "text/plain": [
              "list"
            ]
          },
          "execution_count": 42,
          "metadata": {},
          "output_type": "execute_result"
        }
      ],
      "source": [
        "type(reviews)"
      ]
    },
    {
      "cell_type": "code",
      "execution_count": 45,
      "metadata": {
        "colab": {
          "base_uri": "https://localhost:8080/"
        },
        "id": "K2FrOFkJ9jvI",
        "outputId": "f71a5a80-1071-4645-b1d2-082135039bf9"
      },
      "outputs": [
        {
          "name": "stderr",
          "output_type": "stream",
          "text": [
            "/usr/local/lib/python3.10/dist-packages/keras/src/engine/training.py:3000: UserWarning: You are saving your model as an HDF5 file via `model.save()`. This file format is considered legacy. We recommend using instead the native Keras format, e.g. `model.save('my_model.keras')`.\n",
            "  saving_api.save_model(\n"
          ]
        }
      ],
      "source": [
        "model.save('docMed_Classifier.h5')"
      ]
    },
    {
      "cell_type": "code",
      "execution_count": 52,
      "metadata": {
        "colab": {
          "base_uri": "https://localhost:8080/"
        },
        "id": "Z6y2MaF7Bbyk",
        "outputId": "a16054b4-c91f-4fa1-abf5-4e0f07bdc6c7"
      },
      "outputs": [
        {
          "name": "stderr",
          "output_type": "stream",
          "text": [
            "/usr/local/lib/python3.10/dist-packages/keras/src/engine/training.py:3000: UserWarning: You are saving your model as an HDF5 file via `model.save()`. This file format is considered legacy. We recommend using instead the native Keras format, e.g. `model.save('my_model.keras')`.\n",
            "  saving_api.save_model(\n"
          ]
        }
      ],
      "source": [
        "model.save('docMedClassifier.h5')\n",
        "model.save('dooocMedClassifier')  # The file needs to end with the .keras extension"
      ]
    },
    {
      "cell_type": "code",
      "execution_count": 53,
      "metadata": {
        "id": "mfr4Z7l1ARgO"
      },
      "outputs": [],
      "source": [
        "path = '/content/docMedClassifier.h5'\n",
        "my_reloaded_model = tf.keras.models.load_model(\n",
        "       (path),\n",
        "       custom_objects={'KerasLayer':hub.KerasLayer}\n",
        ")"
      ]
    },
    {
      "cell_type": "code",
      "execution_count": 60,
      "metadata": {
        "id": "QbP5-KevFPNn"
      },
      "outputs": [],
      "source": []
    },
    {
      "cell_type": "code",
      "execution_count": null,
      "metadata": {
        "id": "21ee-D-iFYUd"
      },
      "outputs": [],
      "source": []
    }
  ],
  "metadata": {
    "colab": {
      "name": "classify_text_with_bert.ipynb",
      "provenance": [],
      "toc_visible": true
    },
    "kernelspec": {
      "display_name": "Python 3",
      "name": "python3"
    }
  },
  "nbformat": 4,
  "nbformat_minor": 0
}
